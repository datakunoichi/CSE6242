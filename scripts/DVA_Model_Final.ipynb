{
 "cells": [
  {
   "cell_type": "markdown",
   "id": "fb891670-e50d-4199-b221-048dfa261626",
   "metadata": {},
   "source": [
    "# CSE6242 Project: Flight Delay Forecasting Using Machine Learning"
   ]
  },
  {
   "cell_type": "code",
   "execution_count": 144,
   "id": "9ba8ae4b-9438-492d-a62d-c317d6358ebc",
   "metadata": {},
   "outputs": [],
   "source": [
    "# Importing necessary libraries for EDA\n",
    "import numpy as np\n",
    "import matplotlib.pyplot as plt\n",
    "import seaborn as sns\n",
    "from xgboost import XGBClassifier\n",
    "from imblearn.over_sampling import ADASYN\n",
    "from sklearn.model_selection import train_test_split\n",
    "from sklearn.ensemble import RandomForestClassifier\n",
    "from sklearn.metrics import accuracy_score, confusion_matrix, classification_report\n",
    "from imblearn.over_sampling import SMOTE\n",
    "from imblearn.pipeline import Pipeline\n",
    "from sklearn.preprocessing import LabelEncoder\n",
    "import joblib\n",
    "import pandas as pd"
   ]
  },
  {
   "cell_type": "markdown",
   "id": "fc67c273-59f9-43b4-9dfa-c0177a0093bb",
   "metadata": {},
   "source": [
    "## Importing Data"
   ]
  },
  {
   "cell_type": "code",
   "execution_count": 147,
   "id": "f6ebe06d-dbec-4ea4-8ee8-842baf27805c",
   "metadata": {},
   "outputs": [
    {
     "name": "stdout",
     "output_type": "stream",
     "text": [
      "      FL_DATE                AIRLINE                AIRLINE_DOT AIRLINE_CODE  \\\n",
      "0  2019-01-09  United Air Lines Inc.  United Air Lines Inc.: UA           UA   \n",
      "1  2022-11-19   Delta Air Lines Inc.   Delta Air Lines Inc.: DL           DL   \n",
      "2  2022-07-22  United Air Lines Inc.  United Air Lines Inc.: UA           UA   \n",
      "3  2023-03-06   Delta Air Lines Inc.   Delta Air Lines Inc.: DL           DL   \n",
      "4  2020-02-23       Spirit Air Lines       Spirit Air Lines: NK           NK   \n",
      "\n",
      "   DOT_CODE  FL_NUMBER ORIGIN          ORIGIN_CITY DEST  \\\n",
      "0     19977       1562    FLL  Fort Lauderdale, FL  EWR   \n",
      "1     19790       1149    MSP      Minneapolis, MN  SEA   \n",
      "2     19977        459    DEN           Denver, CO  MSP   \n",
      "3     19790       2295    MSP      Minneapolis, MN  SFO   \n",
      "4     20416        407    MCO          Orlando, FL  DFW   \n",
      "\n",
      "               DEST_CITY  ...  DELAY_DUE_CARRIER  DELAY_DUE_WEATHER  \\\n",
      "0             Newark, NJ  ...                NaN                NaN   \n",
      "1            Seattle, WA  ...                NaN                NaN   \n",
      "2        Minneapolis, MN  ...                NaN                NaN   \n",
      "3      San Francisco, CA  ...                0.0                0.0   \n",
      "4  Dallas/Fort Worth, TX  ...                NaN                NaN   \n",
      "\n",
      "   DELAY_DUE_NAS  DELAY_DUE_SECURITY  DELAY_DUE_LATE_AIRCRAFT  ORIGIN_COUNTRY  \\\n",
      "0            NaN                 NaN                      NaN              US   \n",
      "1            NaN                 NaN                      NaN              US   \n",
      "2            NaN                 NaN                      NaN              US   \n",
      "3           24.0                 0.0                      0.0              US   \n",
      "4            NaN                 NaN                      NaN              US   \n",
      "\n",
      "   ORIGIN_AIRPORT_SIZE  DEST_COUNTRY  DEST_AIRPORT_SIZE   FL_Type  \n",
      "0        large_airport            US      large_airport  Domestic  \n",
      "1        large_airport            US      large_airport  Domestic  \n",
      "2        large_airport            US      large_airport  Domestic  \n",
      "3        large_airport            US      large_airport  Domestic  \n",
      "4        large_airport            US      large_airport  Domestic  \n",
      "\n",
      "[5 rows x 37 columns]\n",
      "FL_DATE                          0\n",
      "AIRLINE                          0\n",
      "AIRLINE_DOT                      0\n",
      "AIRLINE_CODE                     0\n",
      "DOT_CODE                         0\n",
      "FL_NUMBER                        0\n",
      "ORIGIN                           0\n",
      "ORIGIN_CITY                      0\n",
      "DEST                             0\n",
      "DEST_CITY                        0\n",
      "CRS_DEP_TIME                     0\n",
      "DEP_TIME                         0\n",
      "DEP_DELAY                        0\n",
      "TAXI_OUT                         0\n",
      "WHEELS_OFF                       0\n",
      "WHEELS_ON                        0\n",
      "TAXI_IN                          0\n",
      "CRS_ARR_TIME                     0\n",
      "ARR_TIME                         0\n",
      "ARR_DELAY                        0\n",
      "CANCELLED                        0\n",
      "CANCELLATION_CODE          2913802\n",
      "DIVERTED                         0\n",
      "CRS_ELAPSED_TIME                 0\n",
      "ELAPSED_TIME                     0\n",
      "AIR_TIME                         0\n",
      "DISTANCE                         0\n",
      "DELAY_DUE_CARRIER          2379939\n",
      "DELAY_DUE_WEATHER          2379939\n",
      "DELAY_DUE_NAS              2379939\n",
      "DELAY_DUE_SECURITY         2379939\n",
      "DELAY_DUE_LATE_AIRCRAFT    2379939\n",
      "ORIGIN_COUNTRY                  57\n",
      "ORIGIN_AIRPORT_SIZE             57\n",
      "DEST_COUNTRY                    65\n",
      "DEST_AIRPORT_SIZE               65\n",
      "FL_Type                          0\n",
      "dtype: int64\n",
      "<class 'pandas.core.frame.DataFrame'>\n",
      "RangeIndex: 2913802 entries, 0 to 2913801\n",
      "Data columns (total 37 columns):\n",
      " #   Column                   Dtype  \n",
      "---  ------                   -----  \n",
      " 0   FL_DATE                  object \n",
      " 1   AIRLINE                  object \n",
      " 2   AIRLINE_DOT              object \n",
      " 3   AIRLINE_CODE             object \n",
      " 4   DOT_CODE                 int64  \n",
      " 5   FL_NUMBER                int64  \n",
      " 6   ORIGIN                   object \n",
      " 7   ORIGIN_CITY              object \n",
      " 8   DEST                     object \n",
      " 9   DEST_CITY                object \n",
      " 10  CRS_DEP_TIME             int64  \n",
      " 11  DEP_TIME                 float64\n",
      " 12  DEP_DELAY                float64\n",
      " 13  TAXI_OUT                 float64\n",
      " 14  WHEELS_OFF               float64\n",
      " 15  WHEELS_ON                float64\n",
      " 16  TAXI_IN                  float64\n",
      " 17  CRS_ARR_TIME             int64  \n",
      " 18  ARR_TIME                 float64\n",
      " 19  ARR_DELAY                float64\n",
      " 20  CANCELLED                float64\n",
      " 21  CANCELLATION_CODE        float64\n",
      " 22  DIVERTED                 float64\n",
      " 23  CRS_ELAPSED_TIME         float64\n",
      " 24  ELAPSED_TIME             float64\n",
      " 25  AIR_TIME                 float64\n",
      " 26  DISTANCE                 float64\n",
      " 27  DELAY_DUE_CARRIER        float64\n",
      " 28  DELAY_DUE_WEATHER        float64\n",
      " 29  DELAY_DUE_NAS            float64\n",
      " 30  DELAY_DUE_SECURITY       float64\n",
      " 31  DELAY_DUE_LATE_AIRCRAFT  float64\n",
      " 32  ORIGIN_COUNTRY           object \n",
      " 33  ORIGIN_AIRPORT_SIZE      object \n",
      " 34  DEST_COUNTRY             object \n",
      " 35  DEST_AIRPORT_SIZE        object \n",
      " 36  FL_Type                  object \n",
      "dtypes: float64(20), int64(4), object(13)\n",
      "memory usage: 822.5+ MB\n",
      "None\n",
      "           DOT_CODE     FL_NUMBER  CRS_DEP_TIME      DEP_TIME     DEP_DELAY  \\\n",
      "count  2.913802e+06  2.913802e+06  2.913802e+06  2.913802e+06  2.913802e+06   \n",
      "mean   1.997643e+04  2.508089e+03  1.326079e+03  1.329621e+03  1.005009e+01   \n",
      "std    3.765349e+02  1.745981e+03  4.855753e+02  4.993606e+02  4.904988e+01   \n",
      "min    1.939300e+04  1.000000e+00  1.000000e+00  1.000000e+00 -9.000000e+01   \n",
      "25%    1.979000e+04  1.049000e+03  9.150000e+02  9.160000e+02 -6.000000e+00   \n",
      "50%    1.993000e+04  2.149000e+03  1.317000e+03  1.322000e+03 -2.000000e+00   \n",
      "75%    2.036800e+04  3.790000e+03  1.730000e+03  1.739000e+03  6.000000e+00   \n",
      "max    2.045200e+04  9.562000e+03  2.359000e+03  2.400000e+03  2.966000e+03   \n",
      "\n",
      "           TAXI_OUT    WHEELS_OFF     WHEELS_ON       TAXI_IN  CRS_ARR_TIME  \\\n",
      "count  2.913802e+06  2.913802e+06  2.913802e+06  2.913802e+06  2.913802e+06   \n",
      "mean   1.663613e+01  1.352264e+03  1.462353e+03  7.673592e+00  1.489821e+03   \n",
      "std    9.179614e+00  5.009316e+02  5.269689e+02  6.252051e+00  5.110368e+02   \n",
      "min    1.000000e+00  1.000000e+00  1.000000e+00  1.000000e+00  1.000000e+00   \n",
      "25%    1.100000e+01  9.310000e+02  1.049000e+03  4.000000e+00  1.107000e+03   \n",
      "50%    1.400000e+01  1.335000e+03  1.501000e+03  6.000000e+00  1.515000e+03   \n",
      "75%    1.900000e+01  1.752000e+03  1.908000e+03  9.000000e+00  1.918000e+03   \n",
      "max    1.840000e+02  2.400000e+03  2.400000e+03  2.490000e+02  2.400000e+03   \n",
      "\n",
      "       ...   DIVERTED  CRS_ELAPSED_TIME  ELAPSED_TIME      AIR_TIME  \\\n",
      "count  ...  2913802.0      2.913802e+06  2.913802e+06  2.913802e+06   \n",
      "mean   ...        0.0      1.424097e+02  1.366205e+02  1.123108e+02   \n",
      "std    ...        0.0      7.172213e+01  7.167582e+01  6.975484e+01   \n",
      "min    ...        0.0      1.800000e+01  1.500000e+01  8.000000e+00   \n",
      "25%    ...        0.0      9.000000e+01  8.400000e+01  6.100000e+01   \n",
      "50%    ...        0.0      1.250000e+02  1.200000e+02  9.500000e+01   \n",
      "75%    ...        0.0      1.730000e+02  1.670000e+02  1.420000e+02   \n",
      "max    ...        0.0      7.050000e+02  7.390000e+02  6.920000e+02   \n",
      "\n",
      "           DISTANCE  DELAY_DUE_CARRIER  DELAY_DUE_WEATHER  DELAY_DUE_NAS  \\\n",
      "count  2.913802e+06      533863.000000      533863.000000  533863.000000   \n",
      "mean   8.107197e+02          24.759086           3.985260      13.164728   \n",
      "std    5.893703e+02          71.771845          32.410796      33.161122   \n",
      "min    2.900000e+01           0.000000           0.000000       0.000000   \n",
      "25%    3.780000e+02           0.000000           0.000000       0.000000   \n",
      "50%    6.530000e+02           4.000000           0.000000       0.000000   \n",
      "75%    1.047000e+03          23.000000           0.000000      17.000000   \n",
      "max    5.812000e+03        2934.000000        1653.000000    1741.000000   \n",
      "\n",
      "       DELAY_DUE_SECURITY  DELAY_DUE_LATE_AIRCRAFT  \n",
      "count       533863.000000            533863.000000  \n",
      "mean             0.145931                25.471282  \n",
      "std              3.582053                55.766892  \n",
      "min              0.000000                 0.000000  \n",
      "25%              0.000000                 0.000000  \n",
      "50%              0.000000                 0.000000  \n",
      "75%              0.000000                30.000000  \n",
      "max           1185.000000              2557.000000  \n",
      "\n",
      "[8 rows x 24 columns]\n"
     ]
    }
   ],
   "source": [
    "# Load the dataset\n",
    "file_path = 'flights_mod.csv'  # Ensure the file is in the same directory\n",
    "df = pd.read_csv(file_path)\n",
    "\n",
    "# Display the head of the dataframe to understand the structure\n",
    "print(df.head())\n",
    "\n",
    "# Check for missing values\n",
    "print(df.isnull().sum())\n",
    "\n",
    "# Get an overview of data types and non-null counts\n",
    "print(df.info())\n",
    "\n",
    "# Basic statistics for numerical columns\n",
    "print(df.describe())\n"
   ]
  },
  {
   "cell_type": "markdown",
   "id": "af1c382a-7258-4aed-b71b-da842b3ff2af",
   "metadata": {},
   "source": [
    "## Data Cleaning"
   ]
  },
  {
   "cell_type": "markdown",
   "id": "1212d246-a133-4060-ab75-cdade0cfd305",
   "metadata": {},
   "source": [
    "The dataset we obtained from Kaggle includes a large number of flights, some of which were either diverted or cancelled. Including these flights in model training and predictions could negatively impact the model's accuracy, so we will exclude them from our dataset."
   ]
  },
  {
   "cell_type": "code",
   "execution_count": 150,
   "id": "514a2ef1-b440-45a7-9037-4d04ba0ee5ce",
   "metadata": {},
   "outputs": [],
   "source": [
    "# Ensure no infinite valyes and no null values\n",
    "df_clean = df.replace([np.inf, -np.inf], np.nan).dropna(subset=['ARR_DELAY'])\n",
    "\n",
    "# Drop the rows where the flights got canceled\n",
    "df_clean = df_clean[df_clean['CANCELLED'] == 0]\n",
    "\n",
    "# Drop the rows where the flights got diverted\n",
    "df_clean = df_clean[df_clean['DIVERTED'] == 0]\n",
    "\n",
    "\n"
   ]
  },
  {
   "cell_type": "markdown",
   "id": "d003e583-efd7-4692-bac2-054571e9b57f",
   "metadata": {},
   "source": [
    "## Feature Engineering"
   ]
  },
  {
   "cell_type": "markdown",
   "id": "70280465-2916-483b-92da-3a0cac6840c3",
   "metadata": {},
   "source": [
    "We will apply date-time transformations, extract time-based features, and further refine these features into more granular details. Additionally, we will create interaction terms to capture potential meaningful relationships and use one-hot or label encoding as needed."
   ]
  },
  {
   "cell_type": "code",
   "execution_count": 153,
   "id": "1de5781b-f3c0-4c95-9228-257bf8ffe8a1",
   "metadata": {},
   "outputs": [
    {
     "name": "stdout",
     "output_type": "stream",
     "text": [
      "Index(['day_of_week', 'month', 'DEP_TIME_OF_DAY_Evening',\n",
      "       'DEP_TIME_OF_DAY_Morning', 'DEP_TIME_OF_DAY_Night',\n",
      "       'ARR_TIME_OF_DAY_Evening', 'ARR_TIME_OF_DAY_Morning',\n",
      "       'ARR_TIME_OF_DAY_Night', 'ORIGIN_COUNTRY_GU', 'ORIGIN_COUNTRY_MP',\n",
      "       'ORIGIN_COUNTRY_PR', 'ORIGIN_COUNTRY_US', 'ORIGIN_COUNTRY_VI',\n",
      "       'ORIGIN_AIRPORT_SIZE_medium_airport',\n",
      "       'ORIGIN_AIRPORT_SIZE_small_airport', 'DEST_COUNTRY_GU',\n",
      "       'DEST_COUNTRY_MP', 'DEST_COUNTRY_PR', 'DEST_COUNTRY_US',\n",
      "       'DEST_COUNTRY_VI', 'DEST_AIRPORT_SIZE_medium_airport',\n",
      "       'DEST_AIRPORT_SIZE_small_airport', 'FL_Type_International',\n",
      "       'flight_duration_Medium', 'flight_duration_Short', 'ARR_DELAY',\n",
      "       'DEP_DELAY', 'AIRLINE_CODE_Encoded', 'DEST_Encoded', 'ORIGIN_Encoded',\n",
      "       'AirlineCode_FlightNumber_Origin_Dest_interaction',\n",
      "       'flight_duration_Encoded', 'flight_duration_AirlineCode_interaction',\n",
      "       'FL_NUMBER', 'Origin_Dest_interaction', 'FL_DATE'],\n",
      "      dtype='object')\n",
      "<class 'pandas.core.frame.DataFrame'>\n",
      "Index: 2317002 entries, 0 to 2913801\n",
      "Data columns (total 36 columns):\n",
      " #   Column                                            Dtype         \n",
      "---  ------                                            -----         \n",
      " 0   day_of_week                                       int32         \n",
      " 1   month                                             int32         \n",
      " 2   DEP_TIME_OF_DAY_Evening                           bool          \n",
      " 3   DEP_TIME_OF_DAY_Morning                           bool          \n",
      " 4   DEP_TIME_OF_DAY_Night                             bool          \n",
      " 5   ARR_TIME_OF_DAY_Evening                           bool          \n",
      " 6   ARR_TIME_OF_DAY_Morning                           bool          \n",
      " 7   ARR_TIME_OF_DAY_Night                             bool          \n",
      " 8   ORIGIN_COUNTRY_GU                                 bool          \n",
      " 9   ORIGIN_COUNTRY_MP                                 bool          \n",
      " 10  ORIGIN_COUNTRY_PR                                 bool          \n",
      " 11  ORIGIN_COUNTRY_US                                 bool          \n",
      " 12  ORIGIN_COUNTRY_VI                                 bool          \n",
      " 13  ORIGIN_AIRPORT_SIZE_medium_airport                bool          \n",
      " 14  ORIGIN_AIRPORT_SIZE_small_airport                 bool          \n",
      " 15  DEST_COUNTRY_GU                                   bool          \n",
      " 16  DEST_COUNTRY_MP                                   bool          \n",
      " 17  DEST_COUNTRY_PR                                   bool          \n",
      " 18  DEST_COUNTRY_US                                   bool          \n",
      " 19  DEST_COUNTRY_VI                                   bool          \n",
      " 20  DEST_AIRPORT_SIZE_medium_airport                  bool          \n",
      " 21  DEST_AIRPORT_SIZE_small_airport                   bool          \n",
      " 22  FL_Type_International                             bool          \n",
      " 23  flight_duration_Medium                            bool          \n",
      " 24  flight_duration_Short                             bool          \n",
      " 25  ARR_DELAY                                         float64       \n",
      " 26  DEP_DELAY                                         float64       \n",
      " 27  AIRLINE_CODE_Encoded                              int64         \n",
      " 28  DEST_Encoded                                      int64         \n",
      " 29  ORIGIN_Encoded                                    int64         \n",
      " 30  AirlineCode_FlightNumber_Origin_Dest_interaction  int64         \n",
      " 31  flight_duration_Encoded                           int64         \n",
      " 32  flight_duration_AirlineCode_interaction           int64         \n",
      " 33  FL_NUMBER                                         int64         \n",
      " 34  Origin_Dest_interaction                           int64         \n",
      " 35  FL_DATE                                           datetime64[ns]\n",
      "dtypes: bool(23), datetime64[ns](1), float64(2), int32(2), int64(8)\n",
      "memory usage: 280.6 MB\n"
     ]
    },
    {
     "data": {
      "text/plain": [
       "0    15\n",
       "1     5\n",
       "2    15\n",
       "3     5\n",
       "5    16\n",
       "Name: AIRLINE_CODE_Encoded, dtype: int64"
      ]
     },
     "execution_count": 153,
     "metadata": {},
     "output_type": "execute_result"
    }
   ],
   "source": [
    "from statsmodels.stats.outliers_influence import variance_inflation_factor\n",
    "from sklearn.preprocessing import LabelEncoder\n",
    "le = LabelEncoder()\n",
    "\n",
    "#### Date-Time Transformation ####\n",
    "\n",
    "# Convert FL_DATE to date format\n",
    "df_clean['FL_DATE'] = pd.to_datetime(df_clean['FL_DATE'], format='%Y-%m-%d')\n",
    "\n",
    "# Filter out COVID period \n",
    "start_date = '2020-02-01'\n",
    "end_date = '2021-05-31'\n",
    "\n",
    "# Filter the DataFrame to exclude rows within this date range\n",
    "df_clean = df_clean[(df_clean['FL_DATE'] < start_date) | (df_clean['FL_DATE'] > end_date)]\n",
    "\n",
    "# Extract day of the week\n",
    "df_clean['day_of_week'] = df_clean['FL_DATE'].dt.dayofweek  # Monday=0, Sunday=6\n",
    "\n",
    "# Extract month\n",
    "df_clean['month'] = df_clean['FL_DATE'].dt.month\n",
    "\n",
    "# Extract hour of the day from Scheduled departure time\n",
    "df_clean['hour_of_day_Dep'] = df_clean['CRS_DEP_TIME'] // 100  # Assuming CRS_DEP_TIME is in HHMM format\n",
    "df_clean['hour_of_day_Arr'] = df_clean['CRS_ARR_TIME'] // 100\n",
    "\n",
    "df_transformed = df_clean\n",
    "\n",
    "#### Break down the departure and arrival times into more granular features ####\n",
    "\n",
    "# Define time slots based on departure hour\n",
    "def categorize_time_of_day(hour):\n",
    "    if 5 <= hour < 12:\n",
    "        return 'Morning'\n",
    "    elif 12 <= hour < 17:\n",
    "        return 'Afternoon'\n",
    "    elif 17 <= hour < 21:\n",
    "        return 'Evening'\n",
    "    else:\n",
    "        return 'Night'\n",
    "\n",
    "# Apply function to create time-of-day columns\n",
    "df_transformed['DEP_TIME_OF_DAY'] = df_transformed['hour_of_day_Dep'].apply(categorize_time_of_day)\n",
    "df_transformed['ARR_TIME_OF_DAY'] = df_transformed['hour_of_day_Arr'].apply(categorize_time_of_day)\n",
    "\n",
    "#-----------------\n",
    "\n",
    "# Create and fit encoders for each column\n",
    "airline_encoder = LabelEncoder()\n",
    "dest_encoder = LabelEncoder()\n",
    "origin_encoder = LabelEncoder()\n",
    "\n",
    "df_transformed['AIRLINE_CODE_Encoded'] = airline_encoder.fit_transform(df_transformed['AIRLINE_CODE'])\n",
    "df_transformed['DEST_Encoded'] = dest_encoder.fit_transform(df_transformed['DEST'])\n",
    "df_transformed['ORIGIN_Encoded'] = origin_encoder.fit_transform(df_transformed['ORIGIN'])\n",
    "\n",
    "\n",
    "## To avoid issues when creating interaction terms later, we adjust the encoded values so they do not start from 0\n",
    "# Shift the encoding to start from 1 instead of 0\n",
    "df_transformed['AIRLINE_CODE_Encoded'] += 1\n",
    "df_transformed['DEST_Encoded']+=1\n",
    "df_transformed['ORIGIN_Encoded']+=1\n",
    "\n",
    "# Create an interaction term \n",
    "df_transformed['elapsed_time_airlineCode_interaction'] = df_transformed['CRS_ELAPSED_TIME'] * df_transformed['AIRLINE_CODE_Encoded']\n",
    "df_transformed['Origin_Dest_interaction'] = df_transformed['ORIGIN_Encoded'] * df_transformed['DEST_Encoded']\n",
    "df_transformed['AirlineCode_FlightNumber_Origin_Dest_interaction'] = df_transformed['AIRLINE_CODE_Encoded'] * df_transformed['FL_NUMBER']*df_transformed['ORIGIN_Encoded'] * df_transformed['DEST_Encoded']\n",
    "\n",
    "\n",
    "#-----------------\n",
    "\n",
    "#### Drop columns that reveal outcome and redundant columns\n",
    "df_transformed_1 = df_transformed.drop([\"AIRLINE_DOT\", \"DOT_CODE\",\"AIRLINE\", \"CANCELLATION_CODE\",\n",
    "                                \"DIVERTED\", \"CANCELLED\", \n",
    "                                \"DEP_TIME\", \"TAXI_OUT\", \"WHEELS_OFF\", \"WHEELS_ON\",\n",
    "                                \"TAXI_IN\", \"ARR_TIME\", \n",
    "                                \"ELAPSED_TIME\", \"AIR_TIME\", \"DELAY_DUE_CARRIER\", \n",
    "                                \"DELAY_DUE_WEATHER\", \"DELAY_DUE_NAS\", \"DELAY_DUE_SECURITY\",\n",
    "                                \"DELAY_DUE_LATE_AIRCRAFT\",\"ORIGIN_CITY\", \"DEST_CITY\",\n",
    "                                \"hour_of_day_Dep\",\"hour_of_day_Arr\", \"AIRLINE_CODE\",\"DEST\",\"ORIGIN\"], axis=1)\n",
    "\n",
    "# Apply categorization to flight duration\n",
    "def categorize_elapsed_time(mins):\n",
    "    if mins <= 180:\n",
    "        return 'Short'\n",
    "    elif 180 < mins <= 360:\n",
    "        return 'Medium'\n",
    "    elif 360 < mins <= 720:\n",
    "        return 'Long'\n",
    "    else:\n",
    "        return 'Ultra-long'\n",
    "\n",
    "# Apply function to create time-of-day columns\n",
    "df_transformed_1['flight_duration'] = df_transformed_1['CRS_ELAPSED_TIME'].apply(categorize_elapsed_time)\n",
    "\n",
    "\n",
    "# Interaction between flight duration and airline_code\n",
    "flight_duration_encoder = LabelEncoder()\n",
    "df_transformed_1['flight_duration_Encoded'] = flight_duration_encoder.fit_transform(df_transformed_1['flight_duration'])\n",
    "df_transformed_1['flight_duration_Encoded']+=1\n",
    "df_transformed_1['flight_duration_AirlineCode_interaction'] = df_transformed_1['flight_duration_Encoded'] * df_transformed_1['AIRLINE_CODE_Encoded']\n",
    "df_transformed_1 = df_transformed_1.drop([\"CRS_ELAPSED_TIME\", \"CRS_ARR_TIME\", \"CRS_DEP_TIME\",\"DISTANCE\",'elapsed_time_airlineCode_interaction'], axis=1)\n",
    "#print(df_transformed_1.columns)\n",
    "\n",
    "\n",
    "# One-hot encode specified columns\n",
    "df_transformed_encoded = pd.get_dummies(df_transformed_1[['day_of_week', 'month','DEP_TIME_OF_DAY', 'ARR_TIME_OF_DAY', 'ORIGIN_COUNTRY',\n",
    "                                                        'ORIGIN_AIRPORT_SIZE','DEST_COUNTRY','DEST_AIRPORT_SIZE','FL_Type','flight_duration']], drop_first=True)\n",
    "#print(df_transformed_encoded.columns)\n",
    "df_transformed_to_concat = df_transformed_1[[ 'ARR_DELAY', 'DEP_DELAY',\n",
    "                                              'AIRLINE_CODE_Encoded', 'DEST_Encoded', 'ORIGIN_Encoded', \n",
    "                                              'AirlineCode_FlightNumber_Origin_Dest_interaction', 'flight_duration_Encoded', \n",
    "                                              'flight_duration_AirlineCode_interaction','FL_NUMBER','Origin_Dest_interaction','FL_DATE']]\n",
    "\n",
    "#print(df_transformed_to_concat.columns)\n",
    "\n",
    "# Concatenate the non-encoded columns back \n",
    "df_transformed_final = pd.concat([df_transformed_encoded, df_transformed_to_concat], axis=1)\n",
    "\n",
    "# Save each encoder using joblib\n",
    "joblib.dump(airline_encoder, 'airline_encoder.pkl')\n",
    "joblib.dump(dest_encoder, 'dest_encoder.pkl')\n",
    "joblib.dump(origin_encoder, 'origin_encoder.pkl')\n",
    "joblib.dump(flight_duration_encoder, 'flight_duration_encoder.pkl')\n",
    "\n",
    "print(df_transformed_final.columns)\n",
    "df_transformed_final.info()\n",
    "df_transformed_final['AIRLINE_CODE_Encoded'].head()"
   ]
  },
  {
   "cell_type": "code",
   "execution_count": null,
   "id": "ad5163f8-e0b0-41c1-b3cd-9caaa35394a9",
   "metadata": {},
   "outputs": [],
   "source": []
  },
  {
   "cell_type": "markdown",
   "id": "38c7d3ae-902c-435d-9eeb-59aec0bf9a8d",
   "metadata": {},
   "source": [
    "### Create Prev_Delay Column to provide historical delay patterns"
   ]
  },
  {
   "cell_type": "markdown",
   "id": "0fe606ec-e5bc-4888-939a-a75beb623629",
   "metadata": {},
   "source": [
    "We will create a 'Prev_Delay_Column' using only the training dataset. This will enable the model to capture previous delay data based on ORIGIN, DEST, AIRLINE_CODE, and FL_DATE. By including this column, we provide the model with historical delay patterns, which can help improve its predictive accuracy, as delays on similar routes or with the same airline may repeat. Additionally, this approach ensures there is no data leakage by using only the training dataset, maintaining the integrity of the model"
   ]
  },
  {
   "cell_type": "code",
   "execution_count": 396,
   "id": "cb576a3f-ca0d-48ee-8450-263938adfa95",
   "metadata": {},
   "outputs": [],
   "source": [
    "import pickle\n",
    "\n",
    "# save airport size as dict \n",
    "origin_mapping = df_transformed_1[['ORIGIN_Encoded','ORIGIN_AIRPORT_SIZE']].drop_duplicates()\n",
    "dest_mapping = df_transformed_1[['DEST_Encoded','DEST_AIRPORT_SIZE']].drop_duplicates()\n",
    "\n",
    "origin_mapping_dicts = dict(zip(origin_mapping['ORIGIN_Encoded'],origin_mapping['ORIGIN_AIRPORT_SIZE']))\n",
    "dest_mapping_dicts = dict(zip(dest_mapping['DEST_Encoded'],dest_mapping['DEST_AIRPORT_SIZE']))\n",
    "\n",
    "with open('origin_dicts.pkl','wb') as f: #ensures that the file is properly opened and closed after saving the dictionary\n",
    "    pickle.dump(origin_mapping_dicts,f)\n",
    "    \n",
    "with open('dest_dicts.pkl','wb') as f:\n",
    "    pickle.dump(dest_mapping_dicts,f)\n",
    "\n",
    "# save country as dict \n",
    "origin_country_mapping = df_transformed_1[['ORIGIN_Encoded','ORIGIN_COUNTRY']].drop_duplicates()\n",
    "dest_country_mapping = df_transformed_1[['DEST_Encoded','DEST_COUNTRY']].drop_duplicates()\n",
    "\n",
    "origin_country_dicts = dict(zip(origin_country_mapping['ORIGIN_Encoded'],origin_country_mapping['ORIGIN_COUNTRY']))\n",
    "dest_country_dicts = dict(zip(dest_country_mapping['DEST_Encoded'],dest_country_mapping['DEST_COUNTRY']))\n",
    "\n",
    "with open('origin_country_dicts.pkl','wb') as f: #ensures that the file is properly opened and closed after saving the dictionary\n",
    "    pickle.dump(origin_country_dicts,f)\n",
    "    \n",
    "with open('dest_country_dicts.pkl','wb') as f:\n",
    "    pickle.dump(dest_country_dicts,f)"
   ]
  },
  {
   "cell_type": "code",
   "execution_count": 158,
   "id": "4781148d-4302-4380-90ac-c87f576e6e9d",
   "metadata": {},
   "outputs": [],
   "source": [
    "\n",
    "# df_transformed_final['Delay_Category'] = df_transformed_final['ARR_DELAY'].apply(lambda x: 1 if x > 15 else 0)\n",
    "\n",
    "# # Count the number of occurrences in each category\n",
    "# category_counts = df_transformed_final['Delay_Category'].value_counts()\n",
    "# print(\"Counts of each delay category:\")\n",
    "# print(category_counts)\n",
    "\n",
    "df_transformed_final['AIRLINE_CODE_Encoded'] = df_transformed_final['AIRLINE_CODE_Encoded'].astype('category')\n",
    "df_transformed_final['ORIGIN_Encoded'] = df_transformed_final['ORIGIN_Encoded'].astype('category')\n",
    "df_transformed_final['DEST_Encoded'] = df_transformed_final['DEST_Encoded'].astype('category')\n",
    "\n",
    "\n",
    "# Split the data into training and test sets\n",
    "train_data, test_data = train_test_split(df_transformed_final, test_size=0.2, random_state=42)\n",
    "\n",
    "# Sort by airline, flight number, origin, destination, and flight date to ensure correct ordering\n",
    "train_data = train_data.sort_values(by=['AIRLINE_CODE_Encoded', 'FL_NUMBER', 'ORIGIN_Encoded', 'DEST_Encoded', 'FL_DATE'])\n",
    "\n",
    "# Create the previous departure delay column\n",
    "train_data['PREV_DEP_DELAY'] = train_data.groupby(['AIRLINE_CODE_Encoded', 'FL_NUMBER', 'ORIGIN_Encoded', 'DEST_Encoded'])['DEP_DELAY'].shift(1)\n",
    "\n",
    "# Fill missing values (for first flight, as there's no previous flight to track)\n",
    "train_data['PREV_DEP_DELAY'].fillna(0, inplace=True)\n",
    "\n",
    "# Ensure correct data type\n",
    "train_data['PREV_DEP_DELAY'] = train_data['PREV_DEP_DELAY'].astype(float)\n",
    "\n",
    "prev_delay_train = train_data[['AIRLINE_CODE_Encoded', 'FL_NUMBER', 'ORIGIN_Encoded', 'DEST_Encoded', 'PREV_DEP_DELAY']]\n",
    "\n",
    "test_data['PREV_DEP_DELAY'] = test_data.apply(\n",
    "    lambda row: prev_delay_train[\n",
    "        (prev_delay_train['AIRLINE_CODE_Encoded'] == row['AIRLINE_CODE_Encoded']) &\n",
    "        (prev_delay_train['FL_NUMBER'] == row['FL_NUMBER']) &\n",
    "        (prev_delay_train['ORIGIN_Encoded'] == row['ORIGIN_Encoded']) &\n",
    "        (prev_delay_train['DEST_Encoded'] == row['DEST_Encoded'])\n",
    "    ]['PREV_DEP_DELAY'].values[0] if not prev_delay_train[\n",
    "        (prev_delay_train['AIRLINE_CODE_Encoded'] == row['AIRLINE_CODE_Encoded']) &\n",
    "        (prev_delay_train['FL_NUMBER'] == row['FL_NUMBER']) &\n",
    "        (prev_delay_train['ORIGIN_Encoded'] == row['ORIGIN_Encoded']) &\n",
    "        (prev_delay_train['DEST_Encoded'] == row['DEST_Encoded'])\n",
    "    ].empty else 0,\n",
    "    axis=1\n",
    ")\n",
    "test_data['PREV_DEP_DELAY'] = test_data['PREV_DEP_DELAY'].astype(float)\n",
    " "
   ]
  },
  {
   "cell_type": "markdown",
   "id": "effd5489-15c3-49e4-a212-b74168c8a358",
   "metadata": {},
   "source": [
    "### Incorporating network centrality into the model"
   ]
  },
  {
   "cell_type": "code",
   "execution_count": 340,
   "id": "4ee8ec89-27ef-477d-82f3-1cca7a253104",
   "metadata": {},
   "outputs": [],
   "source": [
    "import networkx as nx\n",
    "\n",
    "\n",
    "# Cast back to int\n",
    "train_data['AIRLINE_CODE_Encoded'] = train_data['AIRLINE_CODE_Encoded'].astype(int)\n",
    "train_data['DEST_Encoded'] = train_data['DEST_Encoded'].astype(int)\n",
    "train_data['ORIGIN_Encoded'] = train_data['ORIGIN_Encoded'].astype(int)\n",
    "\n",
    "test_data['AIRLINE_CODE_Encoded'] = test_data['AIRLINE_CODE_Encoded'].astype(int)\n",
    "test_data['DEST_Encoded'] = test_data['DEST_Encoded'].astype(int)\n",
    "test_data['ORIGIN_Encoded'] = test_data['ORIGIN_Encoded'].astype(int)\n",
    "\n",
    "\n",
    "# Create separate directed graphs for origins and destinations\n",
    "G_origin = nx.DiGraph()\n",
    "G_dest = nx.DiGraph()\n",
    "\n",
    "# Add edges to the graphs\n",
    "for index, row in X_train.iterrows():\n",
    "    G_origin.add_edge(row['ORIGIN_Encoded'], row['DEST_Encoded'])  # Graph for origin\n",
    "    G_dest.add_edge(row['DEST_Encoded'], row['ORIGIN_Encoded'])  # Graph for destination\n",
    "\n",
    "# Compute centrality values for the separate graphs\n",
    "degree_centrality_origin = nx.degree_centrality(G_origin)\n",
    "betweenness_centrality_origin = nx.betweenness_centrality(G_origin, normalized=True)\n",
    "\n",
    "degree_centrality_dest = nx.degree_centrality(G_dest)\n",
    "betweenness_centrality_dest = nx.betweenness_centrality(G_dest, normalized=True)\n",
    "\n",
    "# Add centrality values to the training set\n",
    "train_data['origin_degree_centrality'] = train_data['ORIGIN_Encoded'].map(degree_centrality_origin)\n",
    "train_data['dest_degree_centrality'] = train_data['DEST_Encoded'].map(degree_centrality_dest)\n",
    "\n",
    "train_data['origin_betweenness_centrality'] = train_data['ORIGIN_Encoded'].map(betweenness_centrality_origin)\n",
    "train_data['dest_betweenness_centrality'] = train_data['DEST_Encoded'].map(betweenness_centrality_dest)\n",
    "\n",
    "# Use the training set's centrality values to map to the test set (no recalculation for the test set)\n",
    "test_data['origin_degree_centrality'] = test_data['ORIGIN_Encoded'].map(degree_centrality_origin)\n",
    "test_data['dest_degree_centrality'] = test_data['DEST_Encoded'].map(degree_centrality_dest)\n",
    "\n",
    "test_data['origin_betweenness_centrality'] = test_data['ORIGIN_Encoded'].map(betweenness_centrality_origin)\n",
    "test_data['dest_betweenness_centrality'] = test_data['DEST_Encoded'].map(betweenness_centrality_dest)\n"
   ]
  },
  {
   "cell_type": "code",
   "execution_count": 330,
   "id": "ff0f7e2f-fa6b-432a-a4fb-8dbfa125ac9b",
   "metadata": {},
   "outputs": [
    {
     "data": {
      "image/png": "[encoded data removed]",
      "text/plain": [
       "<Figure size 640x480 with 1 Axes>"
      ]
     },
     "metadata": {},
     "output_type": "display_data"
    }
   ],
   "source": [
    "# Check the distribution of centrality measures\n",
    "import matplotlib.pyplot as plt\n",
    "\n",
    "# Plot the degree centrality distribution\n",
    "plt.hist(centrality_data['origin_degree_centrality'], bins=50, alpha=0.7, label='Origin Degree Centrality')\n",
    "plt.hist(centrality_data['dest_degree_centrality'], bins=50, alpha=0.7, label='Destination Degree Centrality')\n",
    "plt.hist(centrality_data['origin_betweenness_centrality'], bins=50, alpha=0.7, label='Origin Betweenness Centrality')\n",
    "plt.hist(centrality_data['dest_betweenness_centrality'], bins=50, alpha=0.7, label='Destination Betweenness Centrality')\n",
    "\n",
    "plt.legend(loc='upper right')\n",
    "plt.xlabel('Centrality Value')\n",
    "plt.ylabel('Frequency')\n",
    "plt.title('Distribution of Centrality Measures')\n",
    "plt.show()\n"
   ]
  },
  {
   "cell_type": "code",
   "execution_count": 342,
   "id": "5fe70711-0730-4020-97ba-2f55a8c2a5b7",
   "metadata": {},
   "outputs": [
    {
     "data": {
      "image/png": "[encoded data removed]",
      "text/plain": [
       "<Figure size 640x480 with 1 Axes>"
      ]
     },
     "metadata": {},
     "output_type": "display_data"
    }
   ],
   "source": [
    "# Compute in-degree and out-degree distributions\n",
    "in_degrees = [G_train.in_degree(n) for n in G_train.nodes()]\n",
    "out_degrees = [G_train.out_degree(n) for n in G_train.nodes()]\n",
    "\n",
    "# Plot in-degree and out-degree distributions\n",
    "plt.hist(in_degrees, bins=50, alpha=0.7, label='In-Degree')\n",
    "plt.hist(out_degrees, bins=50, alpha=0.7, label='Out-Degree')\n",
    "plt.legend(loc='upper right')\n",
    "plt.xlabel('Degree')\n",
    "plt.ylabel('Frequency')\n",
    "plt.title('In-Degree and Out-Degree Distributions')\n",
    "plt.show()\n"
   ]
  },
  {
   "cell_type": "code",
   "execution_count": 343,
   "id": "a8c5863f-1f00-4cda-b670-841609505662",
   "metadata": {},
   "outputs": [
    {
     "data": {
      "image/png": "[encoded data removed]",
      "text/plain": [
       "<Figure size 1000x600 with 1 Axes>"
      ]
     },
     "metadata": {},
     "output_type": "display_data"
    },
    {
     "data": {
      "image/png": "[encoded data removed]",
      "text/plain": [
       "<Figure size 1000x600 with 1 Axes>"
      ]
     },
     "metadata": {},
     "output_type": "display_data"
    },
    {
     "data": {
      "image/png": "[encoded data removed]",
      "text/plain": [
       "<Figure size 1000x600 with 1 Axes>"
      ]
     },
     "metadata": {},
     "output_type": "display_data"
    },
    {
     "data": {
      "image/png": "[encoded data removed]",
      "text/plain": [
       "<Figure size 1000x600 with 1 Axes>"
      ]
     },
     "metadata": {},
     "output_type": "display_data"
    }
   ],
   "source": [
    "# Plot each centrality measure separately\n",
    "plt.figure(figsize=(10, 6))\n",
    "plt.hist(centrality_data['origin_degree_centrality'], bins=50, alpha=0.7, label='Origin Degree Centrality')\n",
    "plt.xlabel('Origin Degree Centrality')\n",
    "plt.ylabel('Frequency')\n",
    "plt.title('Distribution of Origin Degree Centrality')\n",
    "plt.legend()\n",
    "plt.show()\n",
    "\n",
    "plt.figure(figsize=(10, 6))\n",
    "plt.hist(centrality_data['dest_degree_centrality'], bins=50, alpha=0.7, label='Destination Degree Centrality')\n",
    "plt.xlabel('Destination Degree Centrality')\n",
    "plt.ylabel('Frequency')\n",
    "plt.title('Distribution of Destination Degree Centrality')\n",
    "plt.legend()\n",
    "plt.show()\n",
    "\n",
    "plt.figure(figsize=(10, 6))\n",
    "plt.hist(centrality_data['origin_betweenness_centrality'], bins=50, alpha=0.7, label='Origin Betweenness Centrality')\n",
    "plt.xlabel('Origin Betweenness Centrality')\n",
    "plt.ylabel('Frequency')\n",
    "plt.title('Distribution of Origin Betweenness Centrality')\n",
    "plt.legend()\n",
    "plt.show()\n",
    "\n",
    "plt.figure(figsize=(10, 6))\n",
    "plt.hist(centrality_data['dest_betweenness_centrality'], bins=50, alpha=0.7, label='Destination Betweenness Centrality')\n",
    "plt.xlabel('Destination Betweenness Centrality')\n",
    "plt.ylabel('Frequency')\n",
    "plt.title('Distribution of Destination Betweenness Centrality')\n",
    "plt.legend()\n",
    "plt.show()\n"
   ]
  },
  {
   "cell_type": "markdown",
   "id": "024c38e9-cb6f-40c3-b3c8-e9b2f584038f",
   "metadata": {},
   "source": [
    "Since the in-degree and out-degree distributions are almost identical, this in turns causes the origin and destination centrality values to be very similar. In order to reduce feature redundancy, Origin's set of centrality will be dropped."
   ]
  },
  {
   "cell_type": "code",
   "execution_count": 351,
   "id": "55864c0a-6762-4e08-b9d2-47c87c84c609",
   "metadata": {},
   "outputs": [
    {
     "name": "stdout",
     "output_type": "stream",
     "text": [
      "CSV file 'centrality_data.csv' has been created.\n"
     ]
    },
    {
     "data": {
      "text/plain": [
       "Index(['day_of_week', 'month', 'DEP_TIME_OF_DAY_Evening',\n",
       "       'DEP_TIME_OF_DAY_Morning', 'DEP_TIME_OF_DAY_Night',\n",
       "       'ARR_TIME_OF_DAY_Evening', 'ARR_TIME_OF_DAY_Morning',\n",
       "       'ARR_TIME_OF_DAY_Night', 'ORIGIN_COUNTRY_GU', 'ORIGIN_COUNTRY_MP',\n",
       "       'ORIGIN_COUNTRY_PR', 'ORIGIN_COUNTRY_US', 'ORIGIN_COUNTRY_VI',\n",
       "       'ORIGIN_AIRPORT_SIZE_medium_airport',\n",
       "       'ORIGIN_AIRPORT_SIZE_small_airport', 'DEST_COUNTRY_GU',\n",
       "       'DEST_COUNTRY_MP', 'DEST_COUNTRY_PR', 'DEST_COUNTRY_US',\n",
       "       'DEST_COUNTRY_VI', 'DEST_AIRPORT_SIZE_medium_airport',\n",
       "       'DEST_AIRPORT_SIZE_small_airport', 'FL_Type_International',\n",
       "       'flight_duration_Medium', 'flight_duration_Short', 'ARR_DELAY',\n",
       "       'DEP_DELAY', 'AIRLINE_CODE_Encoded', 'DEST_Encoded', 'ORIGIN_Encoded',\n",
       "       'AirlineCode_FlightNumber_Origin_Dest_interaction',\n",
       "       'flight_duration_Encoded', 'flight_duration_AirlineCode_interaction',\n",
       "       'FL_NUMBER', 'Origin_Dest_interaction', 'FL_DATE', 'PREV_DEP_DELAY',\n",
       "       'dest_degree_centrality', 'dest_betweenness_centrality',\n",
       "       'Delay_Category'],\n",
       "      dtype='object')"
      ]
     },
     "execution_count": 351,
     "metadata": {},
     "output_type": "execute_result"
    }
   ],
   "source": [
    "# Save only the centrality columns to a separate file\n",
    "centrality_data = train_data[['ORIGIN_Encoded', 'DEST_Encoded',\n",
    "                             'dest_degree_centrality', 'dest_betweenness_centrality']]\n",
    "centrality_data.to_pickle('centrality_data.pkl')\n",
    "#print(centrality_data.head())\n",
    "\n",
    "# # Filter for rows where ORIGIN_Encoded is 10 and select only the origin_betweenness_centrality column\n",
    "# dest_betweenness_values = centrality_data[centrality_data['DEST_Encoded'] == 211]['dest_betweenness_centrality']\n",
    "\n",
    "# # Display the filtered values\n",
    "# print(dest_betweenness_values.head())\n",
    "\n",
    "# Save the results to a CSV file\n",
    "centrality_data.to_csv('centrality_data.csv', index=False)\n",
    "\n",
    "print(\"CSV file 'centrality_data.csv' has been created.\")\n",
    "\n",
    "train_data= train_data.drop(['origin_degree_centrality','origin_betweenness_centrality'],axis=1)\n",
    "test_data= test_data.drop(['origin_degree_centrality','origin_betweenness_centrality'],axis=1)\n",
    "train_data.columns\n",
    "\n"
   ]
  },
  {
   "cell_type": "markdown",
   "id": "918c06aa-a7f3-4824-bc11-9626b0877e2e",
   "metadata": {},
   "source": [
    "## Model Training"
   ]
  },
  {
   "cell_type": "code",
   "execution_count": 353,
   "id": "8d7ff3a7-1b19-4443-a7a1-b4e74da79d89",
   "metadata": {},
   "outputs": [
    {
     "name": "stdout",
     "output_type": "stream",
     "text": [
      "Counts of each delay category:\n",
      "Delay_Category\n",
      "0    1487428\n",
      "1     366173\n",
      "Name: count, dtype: int64\n",
      "day_of_week                                           int32\n",
      "month                                                 int32\n",
      "DEP_TIME_OF_DAY_Evening                                bool\n",
      "DEP_TIME_OF_DAY_Morning                                bool\n",
      "DEP_TIME_OF_DAY_Night                                  bool\n",
      "ARR_TIME_OF_DAY_Evening                                bool\n",
      "ARR_TIME_OF_DAY_Morning                                bool\n",
      "ARR_TIME_OF_DAY_Night                                  bool\n",
      "ORIGIN_COUNTRY_GU                                      bool\n",
      "ORIGIN_COUNTRY_MP                                      bool\n",
      "ORIGIN_COUNTRY_PR                                      bool\n",
      "ORIGIN_COUNTRY_US                                      bool\n",
      "ORIGIN_COUNTRY_VI                                      bool\n",
      "ORIGIN_AIRPORT_SIZE_medium_airport                     bool\n",
      "ORIGIN_AIRPORT_SIZE_small_airport                      bool\n",
      "DEST_COUNTRY_GU                                        bool\n",
      "DEST_COUNTRY_MP                                        bool\n",
      "DEST_COUNTRY_PR                                        bool\n",
      "DEST_COUNTRY_US                                        bool\n",
      "DEST_COUNTRY_VI                                        bool\n",
      "DEST_AIRPORT_SIZE_medium_airport                       bool\n",
      "DEST_AIRPORT_SIZE_small_airport                        bool\n",
      "FL_Type_International                                  bool\n",
      "flight_duration_Medium                                 bool\n",
      "flight_duration_Short                                  bool\n",
      "AIRLINE_CODE_Encoded                                  int64\n",
      "DEST_Encoded                                          int64\n",
      "ORIGIN_Encoded                                        int64\n",
      "AirlineCode_FlightNumber_Origin_Dest_interaction      int64\n",
      "flight_duration_Encoded                               int64\n",
      "flight_duration_AirlineCode_interaction               int64\n",
      "Origin_Dest_interaction                               int64\n",
      "PREV_DEP_DELAY                                      float64\n",
      "dest_degree_centrality                              float64\n",
      "dest_betweenness_centrality                         float64\n",
      "dtype: object\n"
     ]
    }
   ],
   "source": [
    "# Model 1: Delay is defined as arrival delay greater than 15 minutes\n",
    "# Cast back to int\n",
    "# X_train = X_train.astype({'AIRLINE_CODE_Encoded': 'int', 'ORIGIN_Encoded': 'int', 'DEST_Encoded': 'int'})\n",
    "# X_test = X_test.astype({'AIRLINE_CODE_Encoded': 'int', 'ORIGIN_Encoded': 'int', 'DEST_Encoded': 'int'})\n",
    "\n",
    "def define_delay_category(df, delay_threshold=15):\n",
    "    df['Delay_Category'] = df['ARR_DELAY'].apply(lambda x: 1 if x > delay_threshold else 0)\n",
    "\n",
    "# Call this function to define Delay_Category after the preprocessing\n",
    "define_delay_category(train_data, delay_threshold=15)  # Define with delay > 15 mins\n",
    "define_delay_category(test_data, delay_threshold=15)\n",
    "\n",
    "# Check the counts of each delay category\n",
    "category_counts = train_data['Delay_Category'].value_counts()\n",
    "print(\"Counts of each delay category:\")\n",
    "print(category_counts)\n",
    "\n",
    "# Define the feature set (X) and target (y)\n",
    "X_train = train_data.drop(['ARR_DELAY', 'Delay_Category', 'FL_NUMBER', 'FL_DATE', 'DEP_DELAY'], axis=1)\n",
    "y_train = train_data['Delay_Category']\n",
    "X_test = test_data.drop(['ARR_DELAY', 'Delay_Category', 'FL_NUMBER', 'FL_DATE', 'DEP_DELAY'], axis=1)\n",
    "y_test = test_data['Delay_Category']\n",
    "\n",
    "# Cast back to int\n",
    "X_train['AIRLINE_CODE_Encoded'] = X_train['AIRLINE_CODE_Encoded'].astype(int)\n",
    "X_train['DEST_Encoded'] = X_train['DEST_Encoded'].astype(int)\n",
    "X_train['ORIGIN_Encoded'] = X_train['ORIGIN_Encoded'].astype(int)\n",
    "\n",
    "X_test['AIRLINE_CODE_Encoded'] = X_test['AIRLINE_CODE_Encoded'].astype(int)\n",
    "X_test['DEST_Encoded'] = X_test['DEST_Encoded'].astype(int)\n",
    "X_test['ORIGIN_Encoded'] = X_test['ORIGIN_Encoded'].astype(int)\n",
    "\n",
    "print(X_train.dtypes)\n"
   ]
  },
  {
   "cell_type": "code",
   "execution_count": 355,
   "id": "a2b652fd-3423-43ee-ad59-dfa0e42b3da7",
   "metadata": {},
   "outputs": [
    {
     "name": "stdout",
     "output_type": "stream",
     "text": [
      "Series([], dtype: int64)\n",
      "Empty strings or placeholders in each column: day_of_week                                         0\n",
      "month                                               0\n",
      "DEP_TIME_OF_DAY_Evening                             0\n",
      "DEP_TIME_OF_DAY_Morning                             0\n",
      "DEP_TIME_OF_DAY_Night                               0\n",
      "ARR_TIME_OF_DAY_Evening                             0\n",
      "ARR_TIME_OF_DAY_Morning                             0\n",
      "ARR_TIME_OF_DAY_Night                               0\n",
      "ORIGIN_COUNTRY_GU                                   0\n",
      "ORIGIN_COUNTRY_MP                                   0\n",
      "ORIGIN_COUNTRY_PR                                   0\n",
      "ORIGIN_COUNTRY_US                                   0\n",
      "ORIGIN_COUNTRY_VI                                   0\n",
      "ORIGIN_AIRPORT_SIZE_medium_airport                  0\n",
      "ORIGIN_AIRPORT_SIZE_small_airport                   0\n",
      "DEST_COUNTRY_GU                                     0\n",
      "DEST_COUNTRY_MP                                     0\n",
      "DEST_COUNTRY_PR                                     0\n",
      "DEST_COUNTRY_US                                     0\n",
      "DEST_COUNTRY_VI                                     0\n",
      "DEST_AIRPORT_SIZE_medium_airport                    0\n",
      "DEST_AIRPORT_SIZE_small_airport                     0\n",
      "FL_Type_International                               0\n",
      "flight_duration_Medium                              0\n",
      "flight_duration_Short                               0\n",
      "AIRLINE_CODE_Encoded                                0\n",
      "DEST_Encoded                                        0\n",
      "ORIGIN_Encoded                                      0\n",
      "AirlineCode_FlightNumber_Origin_Dest_interaction    0\n",
      "flight_duration_Encoded                             0\n",
      "flight_duration_AirlineCode_interaction             0\n",
      "Origin_Dest_interaction                             0\n",
      "PREV_DEP_DELAY                                      0\n",
      "dest_degree_centrality                              0\n",
      "dest_betweenness_centrality                         0\n",
      "dtype: int64\n",
      "Columns with missing values and their counts:\n",
      "Series([], dtype: int64)\n",
      "day_of_week                                           int32\n",
      "month                                                 int32\n",
      "DEP_TIME_OF_DAY_Evening                                bool\n",
      "DEP_TIME_OF_DAY_Morning                                bool\n",
      "DEP_TIME_OF_DAY_Night                                  bool\n",
      "ARR_TIME_OF_DAY_Evening                                bool\n",
      "ARR_TIME_OF_DAY_Morning                                bool\n",
      "ARR_TIME_OF_DAY_Night                                  bool\n",
      "ORIGIN_COUNTRY_GU                                      bool\n",
      "ORIGIN_COUNTRY_MP                                      bool\n",
      "ORIGIN_COUNTRY_PR                                      bool\n",
      "ORIGIN_COUNTRY_US                                      bool\n",
      "ORIGIN_COUNTRY_VI                                      bool\n",
      "ORIGIN_AIRPORT_SIZE_medium_airport                     bool\n",
      "ORIGIN_AIRPORT_SIZE_small_airport                      bool\n",
      "DEST_COUNTRY_GU                                        bool\n",
      "DEST_COUNTRY_MP                                        bool\n",
      "DEST_COUNTRY_PR                                        bool\n",
      "DEST_COUNTRY_US                                        bool\n",
      "DEST_COUNTRY_VI                                        bool\n",
      "DEST_AIRPORT_SIZE_medium_airport                       bool\n",
      "DEST_AIRPORT_SIZE_small_airport                        bool\n",
      "FL_Type_International                                  bool\n",
      "flight_duration_Medium                                 bool\n",
      "flight_duration_Short                                  bool\n",
      "AIRLINE_CODE_Encoded                                  int64\n",
      "DEST_Encoded                                          int64\n",
      "ORIGIN_Encoded                                        int64\n",
      "AirlineCode_FlightNumber_Origin_Dest_interaction      int64\n",
      "flight_duration_Encoded                               int64\n",
      "flight_duration_AirlineCode_interaction               int64\n",
      "Origin_Dest_interaction                               int64\n",
      "PREV_DEP_DELAY                                      float64\n",
      "dest_degree_centrality                              float64\n",
      "dest_betweenness_centrality                         float64\n",
      "dtype: object\n"
     ]
    }
   ],
   "source": [
    "# Check for missing values in each column\n",
    "missing_values = X_train.isnull().sum()\n",
    "\n",
    "# Filter columns that have missing values\n",
    "columns_with_missing_values = missing_values[missing_values > 0]\n",
    "\n",
    "# Print the columns with missing values and the number of missing values\n",
    "print(columns_with_missing_values)\n",
    "\n",
    "# Check for empty strings or other missing representations\n",
    "missing_rep = (X_train == '').sum()\n",
    "print(\"Empty strings or placeholders in each column:\", missing_rep)\n",
    "\n",
    "# Check again for any NaNs using a thorough inspection\n",
    "missing_values = X_train.isnull().sum()\n",
    "columns_with_missing_values = missing_values[missing_values > 0]\n",
    "\n",
    "# Print columns with NaNs if they exist\n",
    "print(\"Columns with missing values and their counts:\")\n",
    "print(columns_with_missing_values)\n",
    "\n",
    "print(X_train.dtypes)\n"
   ]
  },
  {
   "cell_type": "markdown",
   "id": "45d93252-a80d-4833-9e68-97715cb54272",
   "metadata": {},
   "source": [
    "### Logistic Regression"
   ]
  },
  {
   "cell_type": "code",
   "execution_count": 357,
   "id": "27ad5ee3-8abe-4e98-89e2-7680d8d3169a",
   "metadata": {},
   "outputs": [
    {
     "name": "stdout",
     "output_type": "stream",
     "text": [
      "Accuracy: 80.21%\n",
      "Confusion Matrix:\n",
      "[[371710      0]\n",
      " [ 91691      0]]\n",
      "Classification Report:\n"
     ]
    },
    {
     "name": "stderr",
     "output_type": "stream",
     "text": [
      "/Users/kikiang/anaconda3/lib/python3.11/site-packages/sklearn/metrics/_classification.py:1334: UndefinedMetricWarning: Precision and F-score are ill-defined and being set to 0.0 in labels with no predicted samples. Use `zero_division` parameter to control this behavior.\n",
      "  _warn_prf(average, modifier, msg_start, len(result))\n",
      "/Users/kikiang/anaconda3/lib/python3.11/site-packages/sklearn/metrics/_classification.py:1334: UndefinedMetricWarning: Precision and F-score are ill-defined and being set to 0.0 in labels with no predicted samples. Use `zero_division` parameter to control this behavior.\n",
      "  _warn_prf(average, modifier, msg_start, len(result))\n",
      "/Users/kikiang/anaconda3/lib/python3.11/site-packages/sklearn/metrics/_classification.py:1334: UndefinedMetricWarning: Precision and F-score are ill-defined and being set to 0.0 in labels with no predicted samples. Use `zero_division` parameter to control this behavior.\n",
      "  _warn_prf(average, modifier, msg_start, len(result))\n"
     ]
    },
    {
     "name": "stdout",
     "output_type": "stream",
     "text": [
      "              precision    recall  f1-score   support\n",
      "\n",
      "           0       0.80      1.00      0.89    371710\n",
      "           1       0.00      0.00      0.00     91691\n",
      "\n",
      "    accuracy                           0.80    463401\n",
      "   macro avg       0.40      0.50      0.45    463401\n",
      "weighted avg       0.64      0.80      0.71    463401\n",
      "\n",
      "Threshold: 0.1, Accuracy: 19.79%\n",
      "Confusion Matrix:\n",
      "[[     0 371710]\n",
      " [     0  91691]]\n",
      "Classification Report:\n"
     ]
    },
    {
     "name": "stderr",
     "output_type": "stream",
     "text": [
      "/Users/kikiang/anaconda3/lib/python3.11/site-packages/sklearn/metrics/_classification.py:1334: UndefinedMetricWarning: Precision and F-score are ill-defined and being set to 0.0 in labels with no predicted samples. Use `zero_division` parameter to control this behavior.\n",
      "  _warn_prf(average, modifier, msg_start, len(result))\n",
      "/Users/kikiang/anaconda3/lib/python3.11/site-packages/sklearn/metrics/_classification.py:1334: UndefinedMetricWarning: Precision and F-score are ill-defined and being set to 0.0 in labels with no predicted samples. Use `zero_division` parameter to control this behavior.\n",
      "  _warn_prf(average, modifier, msg_start, len(result))\n",
      "/Users/kikiang/anaconda3/lib/python3.11/site-packages/sklearn/metrics/_classification.py:1334: UndefinedMetricWarning: Precision and F-score are ill-defined and being set to 0.0 in labels with no predicted samples. Use `zero_division` parameter to control this behavior.\n",
      "  _warn_prf(average, modifier, msg_start, len(result))\n",
      "/Users/kikiang/anaconda3/lib/python3.11/site-packages/sklearn/metrics/_classification.py:1334: UndefinedMetricWarning: Precision and F-score are ill-defined and being set to 0.0 in labels with no predicted samples. Use `zero_division` parameter to control this behavior.\n",
      "  _warn_prf(average, modifier, msg_start, len(result))\n"
     ]
    },
    {
     "name": "stdout",
     "output_type": "stream",
     "text": [
      "              precision    recall  f1-score   support\n",
      "\n",
      "           0       0.00      0.00      0.00    371710\n",
      "           1       0.20      1.00      0.33     91691\n",
      "\n",
      "    accuracy                           0.20    463401\n",
      "   macro avg       0.10      0.50      0.17    463401\n",
      "weighted avg       0.04      0.20      0.07    463401\n",
      "\n",
      "Threshold: 0.2, Accuracy: 19.79%\n",
      "Confusion Matrix:\n",
      "[[     0 371710]\n",
      " [     0  91691]]\n",
      "Classification Report:\n"
     ]
    },
    {
     "name": "stderr",
     "output_type": "stream",
     "text": [
      "/Users/kikiang/anaconda3/lib/python3.11/site-packages/sklearn/metrics/_classification.py:1334: UndefinedMetricWarning: Precision and F-score are ill-defined and being set to 0.0 in labels with no predicted samples. Use `zero_division` parameter to control this behavior.\n",
      "  _warn_prf(average, modifier, msg_start, len(result))\n",
      "/Users/kikiang/anaconda3/lib/python3.11/site-packages/sklearn/metrics/_classification.py:1334: UndefinedMetricWarning: Precision and F-score are ill-defined and being set to 0.0 in labels with no predicted samples. Use `zero_division` parameter to control this behavior.\n",
      "  _warn_prf(average, modifier, msg_start, len(result))\n"
     ]
    },
    {
     "name": "stdout",
     "output_type": "stream",
     "text": [
      "              precision    recall  f1-score   support\n",
      "\n",
      "           0       0.00      0.00      0.00    371710\n",
      "           1       0.20      1.00      0.33     91691\n",
      "\n",
      "    accuracy                           0.20    463401\n",
      "   macro avg       0.10      0.50      0.17    463401\n",
      "weighted avg       0.04      0.20      0.07    463401\n",
      "\n",
      "Threshold: 0.3, Accuracy: 19.79%\n",
      "Confusion Matrix:\n",
      "[[     0 371710]\n",
      " [     0  91691]]\n",
      "Classification Report:\n"
     ]
    },
    {
     "name": "stderr",
     "output_type": "stream",
     "text": [
      "/Users/kikiang/anaconda3/lib/python3.11/site-packages/sklearn/metrics/_classification.py:1334: UndefinedMetricWarning: Precision and F-score are ill-defined and being set to 0.0 in labels with no predicted samples. Use `zero_division` parameter to control this behavior.\n",
      "  _warn_prf(average, modifier, msg_start, len(result))\n",
      "/Users/kikiang/anaconda3/lib/python3.11/site-packages/sklearn/metrics/_classification.py:1334: UndefinedMetricWarning: Precision and F-score are ill-defined and being set to 0.0 in labels with no predicted samples. Use `zero_division` parameter to control this behavior.\n",
      "  _warn_prf(average, modifier, msg_start, len(result))\n",
      "/Users/kikiang/anaconda3/lib/python3.11/site-packages/sklearn/metrics/_classification.py:1334: UndefinedMetricWarning: Precision and F-score are ill-defined and being set to 0.0 in labels with no predicted samples. Use `zero_division` parameter to control this behavior.\n",
      "  _warn_prf(average, modifier, msg_start, len(result))\n",
      "/Users/kikiang/anaconda3/lib/python3.11/site-packages/sklearn/metrics/_classification.py:1334: UndefinedMetricWarning: Precision and F-score are ill-defined and being set to 0.0 in labels with no predicted samples. Use `zero_division` parameter to control this behavior.\n",
      "  _warn_prf(average, modifier, msg_start, len(result))\n"
     ]
    },
    {
     "name": "stdout",
     "output_type": "stream",
     "text": [
      "              precision    recall  f1-score   support\n",
      "\n",
      "           0       0.00      0.00      0.00    371710\n",
      "           1       0.20      1.00      0.33     91691\n",
      "\n",
      "    accuracy                           0.20    463401\n",
      "   macro avg       0.10      0.50      0.17    463401\n",
      "weighted avg       0.04      0.20      0.07    463401\n",
      "\n",
      "Threshold: 0.4, Accuracy: 19.79%\n",
      "Confusion Matrix:\n",
      "[[     0 371710]\n",
      " [     0  91691]]\n",
      "Classification Report:\n"
     ]
    },
    {
     "name": "stderr",
     "output_type": "stream",
     "text": [
      "/Users/kikiang/anaconda3/lib/python3.11/site-packages/sklearn/metrics/_classification.py:1334: UndefinedMetricWarning: Precision and F-score are ill-defined and being set to 0.0 in labels with no predicted samples. Use `zero_division` parameter to control this behavior.\n",
      "  _warn_prf(average, modifier, msg_start, len(result))\n",
      "/Users/kikiang/anaconda3/lib/python3.11/site-packages/sklearn/metrics/_classification.py:1334: UndefinedMetricWarning: Precision and F-score are ill-defined and being set to 0.0 in labels with no predicted samples. Use `zero_division` parameter to control this behavior.\n",
      "  _warn_prf(average, modifier, msg_start, len(result))\n"
     ]
    },
    {
     "name": "stdout",
     "output_type": "stream",
     "text": [
      "              precision    recall  f1-score   support\n",
      "\n",
      "           0       0.00      0.00      0.00    371710\n",
      "           1       0.20      1.00      0.33     91691\n",
      "\n",
      "    accuracy                           0.20    463401\n",
      "   macro avg       0.10      0.50      0.17    463401\n",
      "weighted avg       0.04      0.20      0.07    463401\n",
      "\n",
      "Threshold: 0.5, Accuracy: 80.21%\n",
      "Confusion Matrix:\n",
      "[[371710      0]\n",
      " [ 91691      0]]\n",
      "Classification Report:\n"
     ]
    },
    {
     "name": "stderr",
     "output_type": "stream",
     "text": [
      "/Users/kikiang/anaconda3/lib/python3.11/site-packages/sklearn/metrics/_classification.py:1334: UndefinedMetricWarning: Precision and F-score are ill-defined and being set to 0.0 in labels with no predicted samples. Use `zero_division` parameter to control this behavior.\n",
      "  _warn_prf(average, modifier, msg_start, len(result))\n",
      "/Users/kikiang/anaconda3/lib/python3.11/site-packages/sklearn/metrics/_classification.py:1334: UndefinedMetricWarning: Precision and F-score are ill-defined and being set to 0.0 in labels with no predicted samples. Use `zero_division` parameter to control this behavior.\n",
      "  _warn_prf(average, modifier, msg_start, len(result))\n",
      "/Users/kikiang/anaconda3/lib/python3.11/site-packages/sklearn/metrics/_classification.py:1334: UndefinedMetricWarning: Precision and F-score are ill-defined and being set to 0.0 in labels with no predicted samples. Use `zero_division` parameter to control this behavior.\n",
      "  _warn_prf(average, modifier, msg_start, len(result))\n",
      "/Users/kikiang/anaconda3/lib/python3.11/site-packages/sklearn/metrics/_classification.py:1334: UndefinedMetricWarning: Precision and F-score are ill-defined and being set to 0.0 in labels with no predicted samples. Use `zero_division` parameter to control this behavior.\n",
      "  _warn_prf(average, modifier, msg_start, len(result))\n"
     ]
    },
    {
     "name": "stdout",
     "output_type": "stream",
     "text": [
      "              precision    recall  f1-score   support\n",
      "\n",
      "           0       0.80      1.00      0.89    371710\n",
      "           1       0.00      0.00      0.00     91691\n",
      "\n",
      "    accuracy                           0.80    463401\n",
      "   macro avg       0.40      0.50      0.45    463401\n",
      "weighted avg       0.64      0.80      0.71    463401\n",
      "\n",
      "Threshold: 0.6, Accuracy: 80.21%\n",
      "Confusion Matrix:\n",
      "[[371710      0]\n",
      " [ 91691      0]]\n",
      "Classification Report:\n"
     ]
    },
    {
     "name": "stderr",
     "output_type": "stream",
     "text": [
      "/Users/kikiang/anaconda3/lib/python3.11/site-packages/sklearn/metrics/_classification.py:1334: UndefinedMetricWarning: Precision and F-score are ill-defined and being set to 0.0 in labels with no predicted samples. Use `zero_division` parameter to control this behavior.\n",
      "  _warn_prf(average, modifier, msg_start, len(result))\n",
      "/Users/kikiang/anaconda3/lib/python3.11/site-packages/sklearn/metrics/_classification.py:1334: UndefinedMetricWarning: Precision and F-score are ill-defined and being set to 0.0 in labels with no predicted samples. Use `zero_division` parameter to control this behavior.\n",
      "  _warn_prf(average, modifier, msg_start, len(result))\n"
     ]
    },
    {
     "name": "stdout",
     "output_type": "stream",
     "text": [
      "              precision    recall  f1-score   support\n",
      "\n",
      "           0       0.80      1.00      0.89    371710\n",
      "           1       0.00      0.00      0.00     91691\n",
      "\n",
      "    accuracy                           0.80    463401\n",
      "   macro avg       0.40      0.50      0.45    463401\n",
      "weighted avg       0.64      0.80      0.71    463401\n",
      "\n",
      "Threshold: 0.7, Accuracy: 80.21%\n",
      "Confusion Matrix:\n",
      "[[371710      0]\n",
      " [ 91691      0]]\n",
      "Classification Report:\n"
     ]
    },
    {
     "name": "stderr",
     "output_type": "stream",
     "text": [
      "/Users/kikiang/anaconda3/lib/python3.11/site-packages/sklearn/metrics/_classification.py:1334: UndefinedMetricWarning: Precision and F-score are ill-defined and being set to 0.0 in labels with no predicted samples. Use `zero_division` parameter to control this behavior.\n",
      "  _warn_prf(average, modifier, msg_start, len(result))\n",
      "/Users/kikiang/anaconda3/lib/python3.11/site-packages/sklearn/metrics/_classification.py:1334: UndefinedMetricWarning: Precision and F-score are ill-defined and being set to 0.0 in labels with no predicted samples. Use `zero_division` parameter to control this behavior.\n",
      "  _warn_prf(average, modifier, msg_start, len(result))\n",
      "/Users/kikiang/anaconda3/lib/python3.11/site-packages/sklearn/metrics/_classification.py:1334: UndefinedMetricWarning: Precision and F-score are ill-defined and being set to 0.0 in labels with no predicted samples. Use `zero_division` parameter to control this behavior.\n",
      "  _warn_prf(average, modifier, msg_start, len(result))\n",
      "/Users/kikiang/anaconda3/lib/python3.11/site-packages/sklearn/metrics/_classification.py:1334: UndefinedMetricWarning: Precision and F-score are ill-defined and being set to 0.0 in labels with no predicted samples. Use `zero_division` parameter to control this behavior.\n",
      "  _warn_prf(average, modifier, msg_start, len(result))\n"
     ]
    },
    {
     "name": "stdout",
     "output_type": "stream",
     "text": [
      "              precision    recall  f1-score   support\n",
      "\n",
      "           0       0.80      1.00      0.89    371710\n",
      "           1       0.00      0.00      0.00     91691\n",
      "\n",
      "    accuracy                           0.80    463401\n",
      "   macro avg       0.40      0.50      0.45    463401\n",
      "weighted avg       0.64      0.80      0.71    463401\n",
      "\n",
      "Threshold: 0.8, Accuracy: 80.21%\n",
      "Confusion Matrix:\n",
      "[[371710      0]\n",
      " [ 91691      0]]\n",
      "Classification Report:\n"
     ]
    },
    {
     "name": "stderr",
     "output_type": "stream",
     "text": [
      "/Users/kikiang/anaconda3/lib/python3.11/site-packages/sklearn/metrics/_classification.py:1334: UndefinedMetricWarning: Precision and F-score are ill-defined and being set to 0.0 in labels with no predicted samples. Use `zero_division` parameter to control this behavior.\n",
      "  _warn_prf(average, modifier, msg_start, len(result))\n",
      "/Users/kikiang/anaconda3/lib/python3.11/site-packages/sklearn/metrics/_classification.py:1334: UndefinedMetricWarning: Precision and F-score are ill-defined and being set to 0.0 in labels with no predicted samples. Use `zero_division` parameter to control this behavior.\n",
      "  _warn_prf(average, modifier, msg_start, len(result))\n"
     ]
    },
    {
     "name": "stdout",
     "output_type": "stream",
     "text": [
      "              precision    recall  f1-score   support\n",
      "\n",
      "           0       0.80      1.00      0.89    371710\n",
      "           1       0.00      0.00      0.00     91691\n",
      "\n",
      "    accuracy                           0.80    463401\n",
      "   macro avg       0.40      0.50      0.45    463401\n",
      "weighted avg       0.64      0.80      0.71    463401\n",
      "\n",
      "Threshold: 0.9, Accuracy: 80.21%\n",
      "Confusion Matrix:\n",
      "[[371710      0]\n",
      " [ 91691      0]]\n",
      "Classification Report:\n"
     ]
    },
    {
     "name": "stderr",
     "output_type": "stream",
     "text": [
      "/Users/kikiang/anaconda3/lib/python3.11/site-packages/sklearn/metrics/_classification.py:1334: UndefinedMetricWarning: Precision and F-score are ill-defined and being set to 0.0 in labels with no predicted samples. Use `zero_division` parameter to control this behavior.\n",
      "  _warn_prf(average, modifier, msg_start, len(result))\n",
      "/Users/kikiang/anaconda3/lib/python3.11/site-packages/sklearn/metrics/_classification.py:1334: UndefinedMetricWarning: Precision and F-score are ill-defined and being set to 0.0 in labels with no predicted samples. Use `zero_division` parameter to control this behavior.\n",
      "  _warn_prf(average, modifier, msg_start, len(result))\n"
     ]
    },
    {
     "name": "stdout",
     "output_type": "stream",
     "text": [
      "              precision    recall  f1-score   support\n",
      "\n",
      "           0       0.80      1.00      0.89    371710\n",
      "           1       0.00      0.00      0.00     91691\n",
      "\n",
      "    accuracy                           0.80    463401\n",
      "   macro avg       0.40      0.50      0.45    463401\n",
      "weighted avg       0.64      0.80      0.71    463401\n",
      "\n"
     ]
    },
    {
     "name": "stderr",
     "output_type": "stream",
     "text": [
      "/Users/kikiang/anaconda3/lib/python3.11/site-packages/sklearn/metrics/_classification.py:1334: UndefinedMetricWarning: Precision and F-score are ill-defined and being set to 0.0 in labels with no predicted samples. Use `zero_division` parameter to control this behavior.\n",
      "  _warn_prf(average, modifier, msg_start, len(result))\n"
     ]
    }
   ],
   "source": [
    "from sklearn.linear_model import LogisticRegression\n",
    "from sklearn.metrics import accuracy_score, confusion_matrix, classification_report\n",
    "\n",
    "# Initialize Logistic Regression model\n",
    "lr_model = LogisticRegression(\n",
    "    solver='liblinear',  # Use liblinear solver for smaller datasets\n",
    "    class_weight='balanced',  # Handle class imbalance\n",
    "    random_state=42\n",
    ")\n",
    "\n",
    "# Train the model\n",
    "lr_model.fit(X_train, y_train)\n",
    "\n",
    "# Predict on the test data\n",
    "y_pred_lr = lr_model.predict(X_test)\n",
    "\n",
    "# Calculate accuracy\n",
    "accuracy_lr = accuracy_score(y_test, y_pred_lr)\n",
    "print(f'Accuracy: {accuracy_lr * 100:.2f}%')\n",
    "\n",
    "# Confusion Matrix and Classification Report\n",
    "conf_matrix_lr = confusion_matrix(y_test, y_pred_lr)\n",
    "print('Confusion Matrix:')\n",
    "print(conf_matrix_lr)\n",
    "\n",
    "print('Classification Report:')\n",
    "print(classification_report(y_test, y_pred_lr))\n",
    "\n",
    "\n",
    "#----------------\n",
    "import numpy as np\n",
    "\n",
    "# Predict probabilities for class 1\n",
    "y_pred_prob = lr_model.predict_proba(X_test)[:, 1]\n",
    "\n",
    "# Try different thresholds\n",
    "thresholds = np.arange(0.1, 1.0, 0.1)\n",
    "for threshold in thresholds:\n",
    "    y_pred_threshold = (y_pred_prob >= threshold).astype(int)\n",
    "\n",
    "    accuracy_lr = accuracy_score(y_test, y_pred_threshold)\n",
    "    print(f'Threshold: {threshold:.1f}, Accuracy: {accuracy_lr * 100:.2f}%')\n",
    "\n",
    "    # Confusion Matrix and Classification Report\n",
    "    conf_matrix_lr = confusion_matrix(y_test, y_pred_threshold)\n",
    "    print('Confusion Matrix:')\n",
    "    print(conf_matrix_lr)\n",
    "\n",
    "    print('Classification Report:')\n",
    "    print(classification_report(y_test, y_pred_threshold))\n"
   ]
  },
  {
   "cell_type": "markdown",
   "id": "e5543a24-a30f-481e-b945-09171b480a7a",
   "metadata": {},
   "source": [
    "### Random Forest"
   ]
  },
  {
   "cell_type": "code",
   "execution_count": 360,
   "id": "ffcaba01-355c-4d6c-b258-4c5305400e8c",
   "metadata": {},
   "outputs": [
    {
     "name": "stdout",
     "output_type": "stream",
     "text": [
      "Accuracy: 78.59%\n",
      "Confusion Matrix:\n",
      "[[354945  16765]\n",
      " [ 82427   9264]]\n",
      "Classification Report:\n",
      "              precision    recall  f1-score   support\n",
      "\n",
      "           0       0.81      0.95      0.88    371710\n",
      "           1       0.36      0.10      0.16     91691\n",
      "\n",
      "    accuracy                           0.79    463401\n",
      "   macro avg       0.58      0.53      0.52    463401\n",
      "weighted avg       0.72      0.79      0.73    463401\n",
      "\n"
     ]
    }
   ],
   "source": [
    "# Random Forest\n",
    "\n",
    "# Initialize Random Forest Classifier\n",
    "# rf_model = RandomForestClassifier(n_estimators=100,\n",
    "#                                   class_weight='balanced',\n",
    "#                                   random_state=42)\n",
    "\n",
    "rf_model = RandomForestClassifier(\n",
    "    n_estimators=100,\n",
    "    #max_depth=8,                # Further reduce depth\n",
    "    #min_samples_split=20,        # Ensure nodes have more samples before splitting\n",
    "    #min_samples_leaf=6,          # Prevent overfitting on small sample sizes\n",
    "    class_weight='balanced',     # Use class balancing\n",
    "    n_jobs=-1,  # Use all available cores\n",
    "    random_state=42\n",
    ")\n",
    "\n",
    "# Train the model\n",
    "rf_model.fit(X_train, y_train)\n",
    "\n",
    "# Predict on the test data\n",
    "y_pred = rf_model.predict(X_test)\n",
    "\n",
    "# Calculate accuracy\n",
    "accuracy = accuracy_score(y_test, y_pred)\n",
    "print(f'Accuracy: {accuracy * 100:.2f}%')\n",
    "\n",
    "# Confusion Matrix and Classification Report\n",
    "conf_matrix = confusion_matrix(y_test, y_pred)\n",
    "print('Confusion Matrix:')\n",
    "print(conf_matrix)\n",
    "\n",
    "print('Classification Report:')\n",
    "print(classification_report(y_test, y_pred))\n"
   ]
  },
  {
   "cell_type": "code",
   "execution_count": 383,
   "id": "805e014c-91d8-460c-b974-6eeb1f8e75ff",
   "metadata": {},
   "outputs": [
    {
     "name": "stdout",
     "output_type": "stream",
     "text": [
      "Fitting 3 folds for each of 32 candidates, totalling 96 fits\n"
     ]
    },
    {
     "name": "stderr",
     "output_type": "stream",
     "text": [
      "/Users/kikiang/anaconda3/lib/python3.11/site-packages/sklearn/ensemble/_forest.py:427: FutureWarning: `max_features='auto'` has been deprecated in 1.1 and will be removed in 1.3. To keep the past behaviour, explicitly set `max_features='sqrt'` or remove this parameter as it is also the default value for RandomForestClassifiers and ExtraTreesClassifiers.\n",
      "  warn(\n"
     ]
    },
    {
     "name": "stdout",
     "output_type": "stream",
     "text": [
      "[CV] END max_depth=20, max_features=auto, min_samples_leaf=2, min_samples_split=5, n_estimators=100; total time=  31.5s\n"
     ]
    },
    {
     "name": "stderr",
     "output_type": "stream",
     "text": [
      "/Users/kikiang/anaconda3/lib/python3.11/site-packages/sklearn/ensemble/_forest.py:427: FutureWarning: `max_features='auto'` has been deprecated in 1.1 and will be removed in 1.3. To keep the past behaviour, explicitly set `max_features='sqrt'` or remove this parameter as it is also the default value for RandomForestClassifiers and ExtraTreesClassifiers.\n",
      "  warn(\n"
     ]
    },
    {
     "name": "stdout",
     "output_type": "stream",
     "text": [
      "[CV] END max_depth=20, max_features=auto, min_samples_leaf=2, min_samples_split=5, n_estimators=100; total time=  26.3s\n"
     ]
    },
    {
     "name": "stderr",
     "output_type": "stream",
     "text": [
      "/Users/kikiang/anaconda3/lib/python3.11/site-packages/sklearn/ensemble/_forest.py:427: FutureWarning: `max_features='auto'` has been deprecated in 1.1 and will be removed in 1.3. To keep the past behaviour, explicitly set `max_features='sqrt'` or remove this parameter as it is also the default value for RandomForestClassifiers and ExtraTreesClassifiers.\n",
      "  warn(\n"
     ]
    },
    {
     "name": "stdout",
     "output_type": "stream",
     "text": [
      "[CV] END max_depth=20, max_features=auto, min_samples_leaf=2, min_samples_split=5, n_estimators=100; total time=  25.8s\n"
     ]
    },
    {
     "name": "stderr",
     "output_type": "stream",
     "text": [
      "/Users/kikiang/anaconda3/lib/python3.11/site-packages/sklearn/ensemble/_forest.py:427: FutureWarning: `max_features='auto'` has been deprecated in 1.1 and will be removed in 1.3. To keep the past behaviour, explicitly set `max_features='sqrt'` or remove this parameter as it is also the default value for RandomForestClassifiers and ExtraTreesClassifiers.\n",
      "  warn(\n"
     ]
    },
    {
     "name": "stdout",
     "output_type": "stream",
     "text": [
      "[CV] END max_depth=20, max_features=auto, min_samples_leaf=2, min_samples_split=5, n_estimators=200; total time=  56.7s\n"
     ]
    },
    {
     "name": "stderr",
     "output_type": "stream",
     "text": [
      "/Users/kikiang/anaconda3/lib/python3.11/site-packages/sklearn/ensemble/_forest.py:427: FutureWarning: `max_features='auto'` has been deprecated in 1.1 and will be removed in 1.3. To keep the past behaviour, explicitly set `max_features='sqrt'` or remove this parameter as it is also the default value for RandomForestClassifiers and ExtraTreesClassifiers.\n",
      "  warn(\n"
     ]
    },
    {
     "name": "stdout",
     "output_type": "stream",
     "text": [
      "[CV] END max_depth=20, max_features=auto, min_samples_leaf=2, min_samples_split=5, n_estimators=200; total time=  56.0s\n"
     ]
    },
    {
     "name": "stderr",
     "output_type": "stream",
     "text": [
      "/Users/kikiang/anaconda3/lib/python3.11/site-packages/sklearn/ensemble/_forest.py:427: FutureWarning: `max_features='auto'` has been deprecated in 1.1 and will be removed in 1.3. To keep the past behaviour, explicitly set `max_features='sqrt'` or remove this parameter as it is also the default value for RandomForestClassifiers and ExtraTreesClassifiers.\n",
      "  warn(\n"
     ]
    },
    {
     "name": "stdout",
     "output_type": "stream",
     "text": [
      "[CV] END max_depth=20, max_features=auto, min_samples_leaf=2, min_samples_split=5, n_estimators=200; total time=  55.4s\n"
     ]
    },
    {
     "name": "stderr",
     "output_type": "stream",
     "text": [
      "/Users/kikiang/anaconda3/lib/python3.11/site-packages/sklearn/ensemble/_forest.py:427: FutureWarning: `max_features='auto'` has been deprecated in 1.1 and will be removed in 1.3. To keep the past behaviour, explicitly set `max_features='sqrt'` or remove this parameter as it is also the default value for RandomForestClassifiers and ExtraTreesClassifiers.\n",
      "  warn(\n"
     ]
    },
    {
     "name": "stdout",
     "output_type": "stream",
     "text": [
      "[CV] END max_depth=20, max_features=auto, min_samples_leaf=2, min_samples_split=10, n_estimators=100; total time=  30.1s\n"
     ]
    },
    {
     "name": "stderr",
     "output_type": "stream",
     "text": [
      "/Users/kikiang/anaconda3/lib/python3.11/site-packages/sklearn/ensemble/_forest.py:427: FutureWarning: `max_features='auto'` has been deprecated in 1.1 and will be removed in 1.3. To keep the past behaviour, explicitly set `max_features='sqrt'` or remove this parameter as it is also the default value for RandomForestClassifiers and ExtraTreesClassifiers.\n",
      "  warn(\n"
     ]
    },
    {
     "name": "stdout",
     "output_type": "stream",
     "text": [
      "[CV] END max_depth=20, max_features=auto, min_samples_leaf=2, min_samples_split=10, n_estimators=100; total time=  28.9s\n"
     ]
    },
    {
     "name": "stderr",
     "output_type": "stream",
     "text": [
      "/Users/kikiang/anaconda3/lib/python3.11/site-packages/sklearn/ensemble/_forest.py:427: FutureWarning: `max_features='auto'` has been deprecated in 1.1 and will be removed in 1.3. To keep the past behaviour, explicitly set `max_features='sqrt'` or remove this parameter as it is also the default value for RandomForestClassifiers and ExtraTreesClassifiers.\n",
      "  warn(\n"
     ]
    },
    {
     "name": "stdout",
     "output_type": "stream",
     "text": [
      "[CV] END max_depth=20, max_features=auto, min_samples_leaf=2, min_samples_split=10, n_estimators=100; total time=  29.2s\n"
     ]
    },
    {
     "name": "stderr",
     "output_type": "stream",
     "text": [
      "/Users/kikiang/anaconda3/lib/python3.11/site-packages/sklearn/ensemble/_forest.py:427: FutureWarning: `max_features='auto'` has been deprecated in 1.1 and will be removed in 1.3. To keep the past behaviour, explicitly set `max_features='sqrt'` or remove this parameter as it is also the default value for RandomForestClassifiers and ExtraTreesClassifiers.\n",
      "  warn(\n"
     ]
    },
    {
     "name": "stdout",
     "output_type": "stream",
     "text": [
      "[CV] END max_depth=20, max_features=auto, min_samples_leaf=2, min_samples_split=10, n_estimators=200; total time= 1.0min\n"
     ]
    },
    {
     "name": "stderr",
     "output_type": "stream",
     "text": [
      "/Users/kikiang/anaconda3/lib/python3.11/site-packages/sklearn/ensemble/_forest.py:427: FutureWarning: `max_features='auto'` has been deprecated in 1.1 and will be removed in 1.3. To keep the past behaviour, explicitly set `max_features='sqrt'` or remove this parameter as it is also the default value for RandomForestClassifiers and ExtraTreesClassifiers.\n",
      "  warn(\n"
     ]
    },
    {
     "name": "stdout",
     "output_type": "stream",
     "text": [
      "[CV] END max_depth=20, max_features=auto, min_samples_leaf=2, min_samples_split=10, n_estimators=200; total time=  59.2s\n"
     ]
    },
    {
     "name": "stderr",
     "output_type": "stream",
     "text": [
      "/Users/kikiang/anaconda3/lib/python3.11/site-packages/sklearn/ensemble/_forest.py:427: FutureWarning: `max_features='auto'` has been deprecated in 1.1 and will be removed in 1.3. To keep the past behaviour, explicitly set `max_features='sqrt'` or remove this parameter as it is also the default value for RandomForestClassifiers and ExtraTreesClassifiers.\n",
      "  warn(\n"
     ]
    },
    {
     "name": "stdout",
     "output_type": "stream",
     "text": [
      "[CV] END max_depth=20, max_features=auto, min_samples_leaf=2, min_samples_split=10, n_estimators=200; total time=  57.9s\n"
     ]
    },
    {
     "name": "stderr",
     "output_type": "stream",
     "text": [
      "/Users/kikiang/anaconda3/lib/python3.11/site-packages/sklearn/ensemble/_forest.py:427: FutureWarning: `max_features='auto'` has been deprecated in 1.1 and will be removed in 1.3. To keep the past behaviour, explicitly set `max_features='sqrt'` or remove this parameter as it is also the default value for RandomForestClassifiers and ExtraTreesClassifiers.\n",
      "  warn(\n"
     ]
    },
    {
     "name": "stdout",
     "output_type": "stream",
     "text": [
      "[CV] END max_depth=20, max_features=auto, min_samples_leaf=4, min_samples_split=5, n_estimators=100; total time=  31.4s\n"
     ]
    },
    {
     "name": "stderr",
     "output_type": "stream",
     "text": [
      "/Users/kikiang/anaconda3/lib/python3.11/site-packages/sklearn/ensemble/_forest.py:427: FutureWarning: `max_features='auto'` has been deprecated in 1.1 and will be removed in 1.3. To keep the past behaviour, explicitly set `max_features='sqrt'` or remove this parameter as it is also the default value for RandomForestClassifiers and ExtraTreesClassifiers.\n",
      "  warn(\n"
     ]
    },
    {
     "name": "stdout",
     "output_type": "stream",
     "text": [
      "[CV] END max_depth=20, max_features=auto, min_samples_leaf=4, min_samples_split=5, n_estimators=100; total time=  30.1s\n"
     ]
    },
    {
     "name": "stderr",
     "output_type": "stream",
     "text": [
      "/Users/kikiang/anaconda3/lib/python3.11/site-packages/sklearn/ensemble/_forest.py:427: FutureWarning: `max_features='auto'` has been deprecated in 1.1 and will be removed in 1.3. To keep the past behaviour, explicitly set `max_features='sqrt'` or remove this parameter as it is also the default value for RandomForestClassifiers and ExtraTreesClassifiers.\n",
      "  warn(\n"
     ]
    },
    {
     "name": "stdout",
     "output_type": "stream",
     "text": [
      "[CV] END max_depth=20, max_features=auto, min_samples_leaf=4, min_samples_split=5, n_estimators=100; total time=  29.8s\n"
     ]
    },
    {
     "name": "stderr",
     "output_type": "stream",
     "text": [
      "/Users/kikiang/anaconda3/lib/python3.11/site-packages/sklearn/ensemble/_forest.py:427: FutureWarning: `max_features='auto'` has been deprecated in 1.1 and will be removed in 1.3. To keep the past behaviour, explicitly set `max_features='sqrt'` or remove this parameter as it is also the default value for RandomForestClassifiers and ExtraTreesClassifiers.\n",
      "  warn(\n"
     ]
    },
    {
     "name": "stdout",
     "output_type": "stream",
     "text": [
      "[CV] END max_depth=20, max_features=auto, min_samples_leaf=4, min_samples_split=5, n_estimators=200; total time=18.1min\n"
     ]
    },
    {
     "name": "stderr",
     "output_type": "stream",
     "text": [
      "/Users/kikiang/anaconda3/lib/python3.11/site-packages/sklearn/ensemble/_forest.py:427: FutureWarning: `max_features='auto'` has been deprecated in 1.1 and will be removed in 1.3. To keep the past behaviour, explicitly set `max_features='sqrt'` or remove this parameter as it is also the default value for RandomForestClassifiers and ExtraTreesClassifiers.\n",
      "  warn(\n"
     ]
    },
    {
     "name": "stdout",
     "output_type": "stream",
     "text": [
      "[CV] END max_depth=20, max_features=auto, min_samples_leaf=4, min_samples_split=5, n_estimators=200; total time=17.5min\n"
     ]
    },
    {
     "name": "stderr",
     "output_type": "stream",
     "text": [
      "/Users/kikiang/anaconda3/lib/python3.11/site-packages/sklearn/ensemble/_forest.py:427: FutureWarning: `max_features='auto'` has been deprecated in 1.1 and will be removed in 1.3. To keep the past behaviour, explicitly set `max_features='sqrt'` or remove this parameter as it is also the default value for RandomForestClassifiers and ExtraTreesClassifiers.\n",
      "  warn(\n"
     ]
    },
    {
     "name": "stdout",
     "output_type": "stream",
     "text": [
      "[CV] END max_depth=20, max_features=auto, min_samples_leaf=4, min_samples_split=5, n_estimators=200; total time=  51.6s\n"
     ]
    },
    {
     "name": "stderr",
     "output_type": "stream",
     "text": [
      "/Users/kikiang/anaconda3/lib/python3.11/site-packages/sklearn/ensemble/_forest.py:427: FutureWarning: `max_features='auto'` has been deprecated in 1.1 and will be removed in 1.3. To keep the past behaviour, explicitly set `max_features='sqrt'` or remove this parameter as it is also the default value for RandomForestClassifiers and ExtraTreesClassifiers.\n",
      "  warn(\n"
     ]
    },
    {
     "name": "stdout",
     "output_type": "stream",
     "text": [
      "[CV] END max_depth=20, max_features=auto, min_samples_leaf=4, min_samples_split=10, n_estimators=100; total time=  29.2s\n"
     ]
    },
    {
     "name": "stderr",
     "output_type": "stream",
     "text": [
      "/Users/kikiang/anaconda3/lib/python3.11/site-packages/sklearn/ensemble/_forest.py:427: FutureWarning: `max_features='auto'` has been deprecated in 1.1 and will be removed in 1.3. To keep the past behaviour, explicitly set `max_features='sqrt'` or remove this parameter as it is also the default value for RandomForestClassifiers and ExtraTreesClassifiers.\n",
      "  warn(\n"
     ]
    },
    {
     "name": "stdout",
     "output_type": "stream",
     "text": [
      "[CV] END max_depth=20, max_features=auto, min_samples_leaf=4, min_samples_split=10, n_estimators=100; total time=  28.9s\n"
     ]
    },
    {
     "name": "stderr",
     "output_type": "stream",
     "text": [
      "/Users/kikiang/anaconda3/lib/python3.11/site-packages/sklearn/ensemble/_forest.py:427: FutureWarning: `max_features='auto'` has been deprecated in 1.1 and will be removed in 1.3. To keep the past behaviour, explicitly set `max_features='sqrt'` or remove this parameter as it is also the default value for RandomForestClassifiers and ExtraTreesClassifiers.\n",
      "  warn(\n"
     ]
    },
    {
     "name": "stdout",
     "output_type": "stream",
     "text": [
      "[CV] END max_depth=20, max_features=auto, min_samples_leaf=4, min_samples_split=10, n_estimators=100; total time=  28.9s\n"
     ]
    },
    {
     "name": "stderr",
     "output_type": "stream",
     "text": [
      "/Users/kikiang/anaconda3/lib/python3.11/site-packages/sklearn/ensemble/_forest.py:427: FutureWarning: `max_features='auto'` has been deprecated in 1.1 and will be removed in 1.3. To keep the past behaviour, explicitly set `max_features='sqrt'` or remove this parameter as it is also the default value for RandomForestClassifiers and ExtraTreesClassifiers.\n",
      "  warn(\n"
     ]
    },
    {
     "name": "stdout",
     "output_type": "stream",
     "text": [
      "[CV] END max_depth=20, max_features=auto, min_samples_leaf=4, min_samples_split=10, n_estimators=200; total time= 1.0min\n"
     ]
    },
    {
     "name": "stderr",
     "output_type": "stream",
     "text": [
      "/Users/kikiang/anaconda3/lib/python3.11/site-packages/sklearn/ensemble/_forest.py:427: FutureWarning: `max_features='auto'` has been deprecated in 1.1 and will be removed in 1.3. To keep the past behaviour, explicitly set `max_features='sqrt'` or remove this parameter as it is also the default value for RandomForestClassifiers and ExtraTreesClassifiers.\n",
      "  warn(\n"
     ]
    },
    {
     "name": "stdout",
     "output_type": "stream",
     "text": [
      "[CV] END max_depth=20, max_features=auto, min_samples_leaf=4, min_samples_split=10, n_estimators=200; total time= 2.0min\n"
     ]
    },
    {
     "name": "stderr",
     "output_type": "stream",
     "text": [
      "/Users/kikiang/anaconda3/lib/python3.11/site-packages/sklearn/ensemble/_forest.py:427: FutureWarning: `max_features='auto'` has been deprecated in 1.1 and will be removed in 1.3. To keep the past behaviour, explicitly set `max_features='sqrt'` or remove this parameter as it is also the default value for RandomForestClassifiers and ExtraTreesClassifiers.\n",
      "  warn(\n"
     ]
    },
    {
     "name": "stdout",
     "output_type": "stream",
     "text": [
      "[CV] END max_depth=20, max_features=auto, min_samples_leaf=4, min_samples_split=10, n_estimators=200; total time= 2.0min\n",
      "[CV] END max_depth=20, max_features=sqrt, min_samples_leaf=2, min_samples_split=5, n_estimators=100; total time=  49.9s\n",
      "[CV] END max_depth=20, max_features=sqrt, min_samples_leaf=2, min_samples_split=5, n_estimators=100; total time=  47.5s\n",
      "[CV] END max_depth=20, max_features=sqrt, min_samples_leaf=2, min_samples_split=5, n_estimators=100; total time=  46.7s\n",
      "[CV] END max_depth=20, max_features=sqrt, min_samples_leaf=2, min_samples_split=5, n_estimators=200; total time= 1.7min\n",
      "[CV] END max_depth=20, max_features=sqrt, min_samples_leaf=2, min_samples_split=5, n_estimators=200; total time= 1.7min\n",
      "[CV] END max_depth=20, max_features=sqrt, min_samples_leaf=2, min_samples_split=5, n_estimators=200; total time= 1.7min\n",
      "[CV] END max_depth=20, max_features=sqrt, min_samples_leaf=2, min_samples_split=10, n_estimators=100; total time=  52.9s\n",
      "[CV] END max_depth=20, max_features=sqrt, min_samples_leaf=2, min_samples_split=10, n_estimators=100; total time=  50.2s\n",
      "[CV] END max_depth=20, max_features=sqrt, min_samples_leaf=2, min_samples_split=10, n_estimators=100; total time=  48.6s\n",
      "[CV] END max_depth=20, max_features=sqrt, min_samples_leaf=2, min_samples_split=10, n_estimators=200; total time= 1.7min\n",
      "[CV] END max_depth=20, max_features=sqrt, min_samples_leaf=2, min_samples_split=10, n_estimators=200; total time= 1.7min\n",
      "[CV] END max_depth=20, max_features=sqrt, min_samples_leaf=2, min_samples_split=10, n_estimators=200; total time=16.4min\n",
      "[CV] END max_depth=20, max_features=sqrt, min_samples_leaf=4, min_samples_split=5, n_estimators=100; total time= 2.3min\n",
      "[CV] END max_depth=20, max_features=sqrt, min_samples_leaf=4, min_samples_split=5, n_estimators=100; total time=  25.1s\n",
      "[CV] END max_depth=20, max_features=sqrt, min_samples_leaf=4, min_samples_split=5, n_estimators=100; total time=17.9min\n",
      "[CV] END max_depth=20, max_features=sqrt, min_samples_leaf=4, min_samples_split=5, n_estimators=200; total time=15.9min\n",
      "[CV] END max_depth=20, max_features=sqrt, min_samples_leaf=4, min_samples_split=5, n_estimators=200; total time=  49.8s\n",
      "[CV] END max_depth=20, max_features=sqrt, min_samples_leaf=4, min_samples_split=5, n_estimators=200; total time=  53.6s\n",
      "[CV] END max_depth=20, max_features=sqrt, min_samples_leaf=4, min_samples_split=10, n_estimators=100; total time=  29.3s\n",
      "[CV] END max_depth=20, max_features=sqrt, min_samples_leaf=4, min_samples_split=10, n_estimators=100; total time=  29.3s\n",
      "[CV] END max_depth=20, max_features=sqrt, min_samples_leaf=4, min_samples_split=10, n_estimators=100; total time=  29.0s\n",
      "[CV] END max_depth=20, max_features=sqrt, min_samples_leaf=4, min_samples_split=10, n_estimators=200; total time= 1.7min\n",
      "[CV] END max_depth=20, max_features=sqrt, min_samples_leaf=4, min_samples_split=10, n_estimators=200; total time= 2.3min\n",
      "[CV] END max_depth=20, max_features=sqrt, min_samples_leaf=4, min_samples_split=10, n_estimators=200; total time= 1.6min\n"
     ]
    },
    {
     "name": "stderr",
     "output_type": "stream",
     "text": [
      "/Users/kikiang/anaconda3/lib/python3.11/site-packages/sklearn/ensemble/_forest.py:427: FutureWarning: `max_features='auto'` has been deprecated in 1.1 and will be removed in 1.3. To keep the past behaviour, explicitly set `max_features='sqrt'` or remove this parameter as it is also the default value for RandomForestClassifiers and ExtraTreesClassifiers.\n",
      "  warn(\n"
     ]
    },
    {
     "name": "stdout",
     "output_type": "stream",
     "text": [
      "[CV] END max_depth=30, max_features=auto, min_samples_leaf=2, min_samples_split=5, n_estimators=100; total time=  56.1s\n"
     ]
    },
    {
     "name": "stderr",
     "output_type": "stream",
     "text": [
      "/Users/kikiang/anaconda3/lib/python3.11/site-packages/sklearn/ensemble/_forest.py:427: FutureWarning: `max_features='auto'` has been deprecated in 1.1 and will be removed in 1.3. To keep the past behaviour, explicitly set `max_features='sqrt'` or remove this parameter as it is also the default value for RandomForestClassifiers and ExtraTreesClassifiers.\n",
      "  warn(\n"
     ]
    },
    {
     "name": "stdout",
     "output_type": "stream",
     "text": [
      "[CV] END max_depth=30, max_features=auto, min_samples_leaf=2, min_samples_split=5, n_estimators=100; total time=  55.4s\n"
     ]
    },
    {
     "name": "stderr",
     "output_type": "stream",
     "text": [
      "/Users/kikiang/anaconda3/lib/python3.11/site-packages/sklearn/ensemble/_forest.py:427: FutureWarning: `max_features='auto'` has been deprecated in 1.1 and will be removed in 1.3. To keep the past behaviour, explicitly set `max_features='sqrt'` or remove this parameter as it is also the default value for RandomForestClassifiers and ExtraTreesClassifiers.\n",
      "  warn(\n"
     ]
    },
    {
     "name": "stdout",
     "output_type": "stream",
     "text": [
      "[CV] END max_depth=30, max_features=auto, min_samples_leaf=2, min_samples_split=5, n_estimators=100; total time=  54.7s\n"
     ]
    },
    {
     "name": "stderr",
     "output_type": "stream",
     "text": [
      "/Users/kikiang/anaconda3/lib/python3.11/site-packages/sklearn/ensemble/_forest.py:427: FutureWarning: `max_features='auto'` has been deprecated in 1.1 and will be removed in 1.3. To keep the past behaviour, explicitly set `max_features='sqrt'` or remove this parameter as it is also the default value for RandomForestClassifiers and ExtraTreesClassifiers.\n",
      "  warn(\n"
     ]
    },
    {
     "name": "stdout",
     "output_type": "stream",
     "text": [
      "[CV] END max_depth=30, max_features=auto, min_samples_leaf=2, min_samples_split=5, n_estimators=200; total time= 1.9min\n"
     ]
    },
    {
     "name": "stderr",
     "output_type": "stream",
     "text": [
      "/Users/kikiang/anaconda3/lib/python3.11/site-packages/sklearn/ensemble/_forest.py:427: FutureWarning: `max_features='auto'` has been deprecated in 1.1 and will be removed in 1.3. To keep the past behaviour, explicitly set `max_features='sqrt'` or remove this parameter as it is also the default value for RandomForestClassifiers and ExtraTreesClassifiers.\n",
      "  warn(\n"
     ]
    },
    {
     "name": "stdout",
     "output_type": "stream",
     "text": [
      "[CV] END max_depth=30, max_features=auto, min_samples_leaf=2, min_samples_split=5, n_estimators=200; total time= 1.9min\n"
     ]
    },
    {
     "name": "stderr",
     "output_type": "stream",
     "text": [
      "/Users/kikiang/anaconda3/lib/python3.11/site-packages/sklearn/ensemble/_forest.py:427: FutureWarning: `max_features='auto'` has been deprecated in 1.1 and will be removed in 1.3. To keep the past behaviour, explicitly set `max_features='sqrt'` or remove this parameter as it is also the default value for RandomForestClassifiers and ExtraTreesClassifiers.\n",
      "  warn(\n"
     ]
    },
    {
     "name": "stdout",
     "output_type": "stream",
     "text": [
      "[CV] END max_depth=30, max_features=auto, min_samples_leaf=2, min_samples_split=5, n_estimators=200; total time= 1.9min\n"
     ]
    },
    {
     "name": "stderr",
     "output_type": "stream",
     "text": [
      "/Users/kikiang/anaconda3/lib/python3.11/site-packages/sklearn/ensemble/_forest.py:427: FutureWarning: `max_features='auto'` has been deprecated in 1.1 and will be removed in 1.3. To keep the past behaviour, explicitly set `max_features='sqrt'` or remove this parameter as it is also the default value for RandomForestClassifiers and ExtraTreesClassifiers.\n",
      "  warn(\n"
     ]
    },
    {
     "name": "stdout",
     "output_type": "stream",
     "text": [
      "[CV] END max_depth=30, max_features=auto, min_samples_leaf=2, min_samples_split=10, n_estimators=100; total time= 1.0min\n"
     ]
    },
    {
     "name": "stderr",
     "output_type": "stream",
     "text": [
      "/Users/kikiang/anaconda3/lib/python3.11/site-packages/sklearn/ensemble/_forest.py:427: FutureWarning: `max_features='auto'` has been deprecated in 1.1 and will be removed in 1.3. To keep the past behaviour, explicitly set `max_features='sqrt'` or remove this parameter as it is also the default value for RandomForestClassifiers and ExtraTreesClassifiers.\n",
      "  warn(\n"
     ]
    },
    {
     "name": "stdout",
     "output_type": "stream",
     "text": [
      "[CV] END max_depth=30, max_features=auto, min_samples_leaf=2, min_samples_split=10, n_estimators=100; total time= 1.0min\n"
     ]
    },
    {
     "name": "stderr",
     "output_type": "stream",
     "text": [
      "/Users/kikiang/anaconda3/lib/python3.11/site-packages/sklearn/ensemble/_forest.py:427: FutureWarning: `max_features='auto'` has been deprecated in 1.1 and will be removed in 1.3. To keep the past behaviour, explicitly set `max_features='sqrt'` or remove this parameter as it is also the default value for RandomForestClassifiers and ExtraTreesClassifiers.\n",
      "  warn(\n"
     ]
    },
    {
     "name": "stdout",
     "output_type": "stream",
     "text": [
      "[CV] END max_depth=30, max_features=auto, min_samples_leaf=2, min_samples_split=10, n_estimators=100; total time= 1.0min\n"
     ]
    },
    {
     "name": "stderr",
     "output_type": "stream",
     "text": [
      "/Users/kikiang/anaconda3/lib/python3.11/site-packages/sklearn/ensemble/_forest.py:427: FutureWarning: `max_features='auto'` has been deprecated in 1.1 and will be removed in 1.3. To keep the past behaviour, explicitly set `max_features='sqrt'` or remove this parameter as it is also the default value for RandomForestClassifiers and ExtraTreesClassifiers.\n",
      "  warn(\n"
     ]
    },
    {
     "name": "stdout",
     "output_type": "stream",
     "text": [
      "[CV] END max_depth=30, max_features=auto, min_samples_leaf=2, min_samples_split=10, n_estimators=200; total time= 2.0min\n"
     ]
    },
    {
     "name": "stderr",
     "output_type": "stream",
     "text": [
      "/Users/kikiang/anaconda3/lib/python3.11/site-packages/sklearn/ensemble/_forest.py:427: FutureWarning: `max_features='auto'` has been deprecated in 1.1 and will be removed in 1.3. To keep the past behaviour, explicitly set `max_features='sqrt'` or remove this parameter as it is also the default value for RandomForestClassifiers and ExtraTreesClassifiers.\n",
      "  warn(\n"
     ]
    },
    {
     "name": "stdout",
     "output_type": "stream",
     "text": [
      "[CV] END max_depth=30, max_features=auto, min_samples_leaf=2, min_samples_split=10, n_estimators=200; total time= 2.0min\n"
     ]
    },
    {
     "name": "stderr",
     "output_type": "stream",
     "text": [
      "/Users/kikiang/anaconda3/lib/python3.11/site-packages/sklearn/ensemble/_forest.py:427: FutureWarning: `max_features='auto'` has been deprecated in 1.1 and will be removed in 1.3. To keep the past behaviour, explicitly set `max_features='sqrt'` or remove this parameter as it is also the default value for RandomForestClassifiers and ExtraTreesClassifiers.\n",
      "  warn(\n"
     ]
    },
    {
     "name": "stdout",
     "output_type": "stream",
     "text": [
      "[CV] END max_depth=30, max_features=auto, min_samples_leaf=2, min_samples_split=10, n_estimators=200; total time= 2.1min\n"
     ]
    },
    {
     "name": "stderr",
     "output_type": "stream",
     "text": [
      "/Users/kikiang/anaconda3/lib/python3.11/site-packages/sklearn/ensemble/_forest.py:427: FutureWarning: `max_features='auto'` has been deprecated in 1.1 and will be removed in 1.3. To keep the past behaviour, explicitly set `max_features='sqrt'` or remove this parameter as it is also the default value for RandomForestClassifiers and ExtraTreesClassifiers.\n",
      "  warn(\n"
     ]
    },
    {
     "name": "stdout",
     "output_type": "stream",
     "text": [
      "[CV] END max_depth=30, max_features=auto, min_samples_leaf=4, min_samples_split=5, n_estimators=100; total time= 1.2min\n"
     ]
    },
    {
     "name": "stderr",
     "output_type": "stream",
     "text": [
      "/Users/kikiang/anaconda3/lib/python3.11/site-packages/sklearn/ensemble/_forest.py:427: FutureWarning: `max_features='auto'` has been deprecated in 1.1 and will be removed in 1.3. To keep the past behaviour, explicitly set `max_features='sqrt'` or remove this parameter as it is also the default value for RandomForestClassifiers and ExtraTreesClassifiers.\n",
      "  warn(\n"
     ]
    },
    {
     "name": "stdout",
     "output_type": "stream",
     "text": [
      "[CV] END max_depth=30, max_features=auto, min_samples_leaf=4, min_samples_split=5, n_estimators=100; total time= 1.2min\n"
     ]
    },
    {
     "name": "stderr",
     "output_type": "stream",
     "text": [
      "/Users/kikiang/anaconda3/lib/python3.11/site-packages/sklearn/ensemble/_forest.py:427: FutureWarning: `max_features='auto'` has been deprecated in 1.1 and will be removed in 1.3. To keep the past behaviour, explicitly set `max_features='sqrt'` or remove this parameter as it is also the default value for RandomForestClassifiers and ExtraTreesClassifiers.\n",
      "  warn(\n"
     ]
    },
    {
     "name": "stdout",
     "output_type": "stream",
     "text": [
      "[CV] END max_depth=30, max_features=auto, min_samples_leaf=4, min_samples_split=5, n_estimators=100; total time= 1.1min\n"
     ]
    },
    {
     "name": "stderr",
     "output_type": "stream",
     "text": [
      "/Users/kikiang/anaconda3/lib/python3.11/site-packages/sklearn/ensemble/_forest.py:427: FutureWarning: `max_features='auto'` has been deprecated in 1.1 and will be removed in 1.3. To keep the past behaviour, explicitly set `max_features='sqrt'` or remove this parameter as it is also the default value for RandomForestClassifiers and ExtraTreesClassifiers.\n",
      "  warn(\n"
     ]
    },
    {
     "name": "stdout",
     "output_type": "stream",
     "text": [
      "[CV] END max_depth=30, max_features=auto, min_samples_leaf=4, min_samples_split=5, n_estimators=200; total time= 2.4min\n"
     ]
    },
    {
     "name": "stderr",
     "output_type": "stream",
     "text": [
      "/Users/kikiang/anaconda3/lib/python3.11/site-packages/sklearn/ensemble/_forest.py:427: FutureWarning: `max_features='auto'` has been deprecated in 1.1 and will be removed in 1.3. To keep the past behaviour, explicitly set `max_features='sqrt'` or remove this parameter as it is also the default value for RandomForestClassifiers and ExtraTreesClassifiers.\n",
      "  warn(\n"
     ]
    },
    {
     "name": "stdout",
     "output_type": "stream",
     "text": [
      "[CV] END max_depth=30, max_features=auto, min_samples_leaf=4, min_samples_split=5, n_estimators=200; total time= 2.4min\n"
     ]
    },
    {
     "name": "stderr",
     "output_type": "stream",
     "text": [
      "/Users/kikiang/anaconda3/lib/python3.11/site-packages/sklearn/ensemble/_forest.py:427: FutureWarning: `max_features='auto'` has been deprecated in 1.1 and will be removed in 1.3. To keep the past behaviour, explicitly set `max_features='sqrt'` or remove this parameter as it is also the default value for RandomForestClassifiers and ExtraTreesClassifiers.\n",
      "  warn(\n"
     ]
    },
    {
     "name": "stdout",
     "output_type": "stream",
     "text": [
      "[CV] END max_depth=30, max_features=auto, min_samples_leaf=4, min_samples_split=5, n_estimators=200; total time= 2.3min\n"
     ]
    },
    {
     "name": "stderr",
     "output_type": "stream",
     "text": [
      "/Users/kikiang/anaconda3/lib/python3.11/site-packages/sklearn/ensemble/_forest.py:427: FutureWarning: `max_features='auto'` has been deprecated in 1.1 and will be removed in 1.3. To keep the past behaviour, explicitly set `max_features='sqrt'` or remove this parameter as it is also the default value for RandomForestClassifiers and ExtraTreesClassifiers.\n",
      "  warn(\n"
     ]
    },
    {
     "name": "stdout",
     "output_type": "stream",
     "text": [
      "[CV] END max_depth=30, max_features=auto, min_samples_leaf=4, min_samples_split=10, n_estimators=100; total time= 1.2min\n"
     ]
    },
    {
     "name": "stderr",
     "output_type": "stream",
     "text": [
      "/Users/kikiang/anaconda3/lib/python3.11/site-packages/sklearn/ensemble/_forest.py:427: FutureWarning: `max_features='auto'` has been deprecated in 1.1 and will be removed in 1.3. To keep the past behaviour, explicitly set `max_features='sqrt'` or remove this parameter as it is also the default value for RandomForestClassifiers and ExtraTreesClassifiers.\n",
      "  warn(\n"
     ]
    },
    {
     "name": "stdout",
     "output_type": "stream",
     "text": [
      "[CV] END max_depth=30, max_features=auto, min_samples_leaf=4, min_samples_split=10, n_estimators=100; total time= 1.2min\n"
     ]
    },
    {
     "name": "stderr",
     "output_type": "stream",
     "text": [
      "/Users/kikiang/anaconda3/lib/python3.11/site-packages/sklearn/ensemble/_forest.py:427: FutureWarning: `max_features='auto'` has been deprecated in 1.1 and will be removed in 1.3. To keep the past behaviour, explicitly set `max_features='sqrt'` or remove this parameter as it is also the default value for RandomForestClassifiers and ExtraTreesClassifiers.\n",
      "  warn(\n"
     ]
    },
    {
     "name": "stdout",
     "output_type": "stream",
     "text": [
      "[CV] END max_depth=30, max_features=auto, min_samples_leaf=4, min_samples_split=10, n_estimators=100; total time= 1.2min\n"
     ]
    },
    {
     "name": "stderr",
     "output_type": "stream",
     "text": [
      "/Users/kikiang/anaconda3/lib/python3.11/site-packages/sklearn/ensemble/_forest.py:427: FutureWarning: `max_features='auto'` has been deprecated in 1.1 and will be removed in 1.3. To keep the past behaviour, explicitly set `max_features='sqrt'` or remove this parameter as it is also the default value for RandomForestClassifiers and ExtraTreesClassifiers.\n",
      "  warn(\n"
     ]
    },
    {
     "name": "stdout",
     "output_type": "stream",
     "text": [
      "[CV] END max_depth=30, max_features=auto, min_samples_leaf=4, min_samples_split=10, n_estimators=200; total time= 2.5min\n"
     ]
    },
    {
     "name": "stderr",
     "output_type": "stream",
     "text": [
      "/Users/kikiang/anaconda3/lib/python3.11/site-packages/sklearn/ensemble/_forest.py:427: FutureWarning: `max_features='auto'` has been deprecated in 1.1 and will be removed in 1.3. To keep the past behaviour, explicitly set `max_features='sqrt'` or remove this parameter as it is also the default value for RandomForestClassifiers and ExtraTreesClassifiers.\n",
      "  warn(\n"
     ]
    },
    {
     "name": "stdout",
     "output_type": "stream",
     "text": [
      "[CV] END max_depth=30, max_features=auto, min_samples_leaf=4, min_samples_split=10, n_estimators=200; total time= 2.4min\n"
     ]
    },
    {
     "name": "stderr",
     "output_type": "stream",
     "text": [
      "/Users/kikiang/anaconda3/lib/python3.11/site-packages/sklearn/ensemble/_forest.py:427: FutureWarning: `max_features='auto'` has been deprecated in 1.1 and will be removed in 1.3. To keep the past behaviour, explicitly set `max_features='sqrt'` or remove this parameter as it is also the default value for RandomForestClassifiers and ExtraTreesClassifiers.\n",
      "  warn(\n"
     ]
    },
    {
     "name": "stdout",
     "output_type": "stream",
     "text": [
      "[CV] END max_depth=30, max_features=auto, min_samples_leaf=4, min_samples_split=10, n_estimators=200; total time= 2.3min\n",
      "[CV] END max_depth=30, max_features=sqrt, min_samples_leaf=2, min_samples_split=5, n_estimators=100; total time= 1.3min\n",
      "[CV] END max_depth=30, max_features=sqrt, min_samples_leaf=2, min_samples_split=5, n_estimators=100; total time= 1.3min\n",
      "[CV] END max_depth=30, max_features=sqrt, min_samples_leaf=2, min_samples_split=5, n_estimators=100; total time= 1.2min\n",
      "[CV] END max_depth=30, max_features=sqrt, min_samples_leaf=2, min_samples_split=5, n_estimators=200; total time= 2.5min\n",
      "[CV] END max_depth=30, max_features=sqrt, min_samples_leaf=2, min_samples_split=5, n_estimators=200; total time= 2.4min\n",
      "[CV] END max_depth=30, max_features=sqrt, min_samples_leaf=2, min_samples_split=5, n_estimators=200; total time= 2.4min\n",
      "[CV] END max_depth=30, max_features=sqrt, min_samples_leaf=2, min_samples_split=10, n_estimators=100; total time= 1.3min\n",
      "[CV] END max_depth=30, max_features=sqrt, min_samples_leaf=2, min_samples_split=10, n_estimators=100; total time= 1.2min\n",
      "[CV] END max_depth=30, max_features=sqrt, min_samples_leaf=2, min_samples_split=10, n_estimators=100; total time= 1.2min\n",
      "[CV] END max_depth=30, max_features=sqrt, min_samples_leaf=2, min_samples_split=10, n_estimators=200; total time= 2.5min\n",
      "[CV] END max_depth=30, max_features=sqrt, min_samples_leaf=2, min_samples_split=10, n_estimators=200; total time= 2.4min\n",
      "[CV] END max_depth=30, max_features=sqrt, min_samples_leaf=2, min_samples_split=10, n_estimators=200; total time= 2.4min\n",
      "[CV] END max_depth=30, max_features=sqrt, min_samples_leaf=4, min_samples_split=5, n_estimators=100; total time= 1.3min\n",
      "[CV] END max_depth=30, max_features=sqrt, min_samples_leaf=4, min_samples_split=5, n_estimators=100; total time=11.7min\n",
      "[CV] END max_depth=30, max_features=sqrt, min_samples_leaf=4, min_samples_split=5, n_estimators=100; total time=  27.5s\n",
      "[CV] END max_depth=30, max_features=sqrt, min_samples_leaf=4, min_samples_split=5, n_estimators=200; total time= 1.0min\n",
      "[CV] END max_depth=30, max_features=sqrt, min_samples_leaf=4, min_samples_split=5, n_estimators=200; total time=17.3min\n",
      "[CV] END max_depth=30, max_features=sqrt, min_samples_leaf=4, min_samples_split=5, n_estimators=200; total time=  55.1s\n",
      "[CV] END max_depth=30, max_features=sqrt, min_samples_leaf=4, min_samples_split=10, n_estimators=100; total time=  31.5s\n",
      "[CV] END max_depth=30, max_features=sqrt, min_samples_leaf=4, min_samples_split=10, n_estimators=100; total time=  31.2s\n",
      "[CV] END max_depth=30, max_features=sqrt, min_samples_leaf=4, min_samples_split=10, n_estimators=100; total time=  58.5s\n",
      "[CV] END max_depth=30, max_features=sqrt, min_samples_leaf=4, min_samples_split=10, n_estimators=200; total time=14.4min\n",
      "[CV] END max_depth=30, max_features=sqrt, min_samples_leaf=4, min_samples_split=10, n_estimators=200; total time= 7.7min\n",
      "[CV] END max_depth=30, max_features=sqrt, min_samples_leaf=4, min_samples_split=10, n_estimators=200; total time=18.1min\n"
     ]
    },
    {
     "name": "stderr",
     "output_type": "stream",
     "text": [
      "/Users/kikiang/anaconda3/lib/python3.11/site-packages/sklearn/ensemble/_forest.py:427: FutureWarning: `max_features='auto'` has been deprecated in 1.1 and will be removed in 1.3. To keep the past behaviour, explicitly set `max_features='sqrt'` or remove this parameter as it is also the default value for RandomForestClassifiers and ExtraTreesClassifiers.\n",
      "  warn(\n"
     ]
    },
    {
     "name": "stdout",
     "output_type": "stream",
     "text": [
      "Best Parameters: {'max_depth': 30, 'max_features': 'auto', 'min_samples_leaf': 2, 'min_samples_split': 5, 'n_estimators': 100}\n",
      "Best Cross-Validation Accuracy: 0.84\n",
      "Accuracy: 90.84%\n",
      "Confusion Matrix:\n",
      "[[418115  13519]\n",
      " [ 28931   2836]]\n",
      "Classification Report:\n",
      "              precision    recall  f1-score   support\n",
      "\n",
      "           0       0.94      0.97      0.95    431634\n",
      "           1       0.17      0.09      0.12     31767\n",
      "\n",
      "    accuracy                           0.91    463401\n",
      "   macro avg       0.55      0.53      0.53    463401\n",
      "weighted avg       0.88      0.91      0.89    463401\n",
      "\n"
     ]
    }
   ],
   "source": [
    "from sklearn.model_selection import GridSearchCV\n",
    "from sklearn.ensemble import RandomForestClassifier\n",
    "\n",
    "# Define the RandomForestClassifier\n",
    "rf_model = RandomForestClassifier(class_weight='balanced', random_state=42, n_jobs=-1)\n",
    "\n",
    "# Define the parameter grid\n",
    "param_grid = {\n",
    "    'n_estimators': [100, 200],              # Number of trees in the forest\n",
    "    'max_depth': [ 20, 30],              # Maximum depth of the tree\n",
    "    'min_samples_split': [ 5, 10],              # Minimum samples required to split an internal node\n",
    "    'min_samples_leaf': [ 2, 4],                # Minimum samples required to be at a leaf node\n",
    "    'max_features': ['auto', 'sqrt'],    # Number of features to consider when looking for the best split\n",
    "    #'bootstrap': [True, False],                   # Whether bootstrap samples are used when building trees\n",
    "}\n",
    "\n",
    "# Initialize GridSearchCV\n",
    "grid_search = GridSearchCV(estimator=rf_model, param_grid=param_grid, \n",
    "                           cv=3,  # 3-fold cross-validation\n",
    "                           #n_jobs=-1,  # Use all cores\n",
    "                           verbose=2,  # Show progress\n",
    "                           scoring='accuracy')  # You can change this to 'f1', 'precision', or 'recall'\n",
    "\n",
    "# Fit GridSearchCV\n",
    "grid_search.fit(X_train, y_train)\n",
    "\n",
    "# Best parameters and best score\n",
    "print(f'Best Parameters: {grid_search.best_params_}')\n",
    "print(f'Best Cross-Validation Accuracy: {grid_search.best_score_:.2f}')\n",
    "\n",
    "# Predict with the best model\n",
    "y_pred_rf = grid_search.best_estimator_.predict(X_test)\n",
    "\n",
    "# Calculate accuracy\n",
    "accuracy_rf = accuracy_score(y_test, y_pred_rf)\n",
    "print(f'Accuracy: {accuracy_rf * 100:.2f}%')\n",
    "\n",
    "# Confusion Matrix and Classification Report\n",
    "conf_matrix_rf = confusion_matrix(y_test, y_pred_rf)\n",
    "print('Confusion Matrix:')\n",
    "print(conf_matrix_rf)\n",
    "\n",
    "print('Classification Report:')\n",
    "print(classification_report(y_test, y_pred_rf))\n"
   ]
  },
  {
   "cell_type": "code",
   "execution_count": 362,
   "id": "cf5ceb9f-3080-4eec-a90f-203748439ba3",
   "metadata": {},
   "outputs": [
    {
     "name": "stdout",
     "output_type": "stream",
     "text": [
      "Accuracy: 77.40%\n",
      "Confusion Matrix:\n",
      "[[345672  26038]\n",
      " [ 78698  12993]]\n",
      "Classification Report:\n",
      "              precision    recall  f1-score   support\n",
      "\n",
      "           0       0.81      0.93      0.87    371710\n",
      "           1       0.33      0.14      0.20     91691\n",
      "\n",
      "    accuracy                           0.77    463401\n",
      "   macro avg       0.57      0.54      0.53    463401\n",
      "weighted avg       0.72      0.77      0.74    463401\n",
      "\n"
     ]
    }
   ],
   "source": [
    "# Create SMOTE object with a suitable sampling ratio\n",
    "smote = SMOTE(sampling_strategy=0.8, random_state=42)  # Adjust sampling ratio to fit your data\n",
    "\n",
    "# Create a pipeline that applies SMOTE and then trains the model\n",
    "pipeline = Pipeline([\n",
    "    ('smote', smote),\n",
    "    ('classifier', RandomForestClassifier(\n",
    "        n_estimators=100,\n",
    "        class_weight='balanced',  # You could also try custom weights like {0: 1, 1: 3}\n",
    "        n_jobs=-1,                # Use all available cores\n",
    "        random_state=42\n",
    "    ))\n",
    "])\n",
    "\n",
    "# Train the pipeline model\n",
    "pipeline.fit(X_train, y_train)\n",
    "\n",
    "# Predict on the test data\n",
    "y_pred = pipeline.predict(X_test)\n",
    "\n",
    "# Calculate accuracy\n",
    "accuracy = accuracy_score(y_test, y_pred)\n",
    "print(f'Accuracy: {accuracy * 100:.2f}%')\n",
    "\n",
    "# Confusion Matrix and Classification Report\n",
    "conf_matrix = confusion_matrix(y_test, y_pred)\n",
    "print('Confusion Matrix:')\n",
    "print(conf_matrix)\n",
    "\n",
    "print('Classification Report:')\n",
    "print(classification_report(y_test, y_pred))\n"
   ]
  },
  {
   "cell_type": "code",
   "execution_count": 363,
   "id": "7c83dd43-8402-404d-aff5-1e075ef64022",
   "metadata": {},
   "outputs": [
    {
     "name": "stdout",
     "output_type": "stream",
     "text": [
      "Accuracy: 77.45%\n",
      "Confusion Matrix:\n",
      "[[346031  25679]\n",
      " [ 78813  12878]]\n",
      "Classification Report:\n",
      "              precision    recall  f1-score   support\n",
      "\n",
      "           0       0.81      0.93      0.87    371710\n",
      "           1       0.33      0.14      0.20     91691\n",
      "\n",
      "    accuracy                           0.77    463401\n",
      "   macro avg       0.57      0.54      0.53    463401\n",
      "weighted avg       0.72      0.77      0.74    463401\n",
      "\n"
     ]
    }
   ],
   "source": [
    "from imblearn.over_sampling import ADASYN\n",
    "\n",
    "pipeline = Pipeline([\n",
    "    ('adasyn', ADASYN(sampling_strategy=0.8, random_state=42)),\n",
    "    ('classifier', RandomForestClassifier(\n",
    "        n_estimators=100,\n",
    "        class_weight='balanced',\n",
    "        random_state=42\n",
    "    ))\n",
    "])\n",
    "# Train the pipeline model\n",
    "pipeline.fit(X_train, y_train)\n",
    "\n",
    "# Predict on the test data\n",
    "y_pred = pipeline.predict(X_test)\n",
    "\n",
    "# Calculate accuracy\n",
    "accuracy = accuracy_score(y_test, y_pred)\n",
    "print(f'Accuracy: {accuracy * 100:.2f}%')\n",
    "\n",
    "# Confusion Matrix and Classification Report\n",
    "conf_matrix = confusion_matrix(y_test, y_pred)\n",
    "print('Confusion Matrix:')\n",
    "print(conf_matrix)\n",
    "\n",
    "print('Classification Report:')\n",
    "print(classification_report(y_test, y_pred))"
   ]
  },
  {
   "cell_type": "code",
   "execution_count": 364,
   "id": "0b2b4832-9996-4d3e-aa22-1d0e251533f2",
   "metadata": {},
   "outputs": [
    {
     "name": "stdout",
     "output_type": "stream",
     "text": [
      "Accuracy: 72.23%\n",
      "Confusion Matrix:\n",
      "[[296029  75681]\n",
      " [ 53004  38687]]\n",
      "Classification Report:\n",
      "              precision    recall  f1-score   support\n",
      "\n",
      "           0       0.85      0.80      0.82    371710\n",
      "           1       0.34      0.42      0.38     91691\n",
      "\n",
      "    accuracy                           0.72    463401\n",
      "   macro avg       0.59      0.61      0.60    463401\n",
      "weighted avg       0.75      0.72      0.73    463401\n",
      "\n"
     ]
    },
    {
     "data": {
      "text/plain": [
       "['X_train_columns.pkl']"
      ]
     },
     "execution_count": 364,
     "metadata": {},
     "output_type": "execute_result"
    }
   ],
   "source": [
    "xgb_model = XGBClassifier(\n",
    "    scale_pos_weight=3,        # Adjusted for better balance\n",
    "    max_depth=6,               # Control model complexity\n",
    "    learning_rate=0.1,         # Lower learning rate for better convergence\n",
    "    n_estimators=200,          # More trees can improve performance\n",
    "    min_child_weight=5,        # Minimum sum of instance weight needed in a child\n",
    "    random_state=42\n",
    ")\n",
    "xgb_model.fit(X_train, y_train)\n",
    "y_pred = xgb_model.predict(X_test)\n",
    "\n",
    "# Calculate accuracy\n",
    "accuracy = accuracy_score(y_test, y_pred)\n",
    "print(f'Accuracy: {accuracy * 100:.2f}%')\n",
    "\n",
    "# Confusion Matrix and Classification Report\n",
    "conf_matrix = confusion_matrix(y_test, y_pred)\n",
    "print('Confusion Matrix:')\n",
    "print(conf_matrix)\n",
    "\n",
    "print('Classification Report:')\n",
    "print(classification_report(y_test, y_pred))\n",
    "\n",
    "joblib.dump(xgb_model, 'xgb_model.pkl')\n",
    "joblib.dump(X_train.columns, 'X_train_columns.pkl')  # Save the column names\n",
    "\n",
    "\n"
   ]
  },
  {
   "cell_type": "markdown",
   "id": "eb80e8df-ac04-423e-a670-a333871dea97",
   "metadata": {},
   "source": [
    "#### Since the goal of the project is to minimize disruption for passengers and airline operations by identifying delays as early as possible, prioritizing recall for class 1(delayed flights) is essential. While the random forest model achieved the highest overall accuracy, XGBoost outperformed all other models in detecting delayed flights, making it the chosen model for deployment. The team will train XGBoost on the dataset four times, each with a different delay threshold. This approach will help estimate the expected delay duration for each flight."
   ]
  },
  {
   "cell_type": "code",
   "execution_count": 366,
   "id": "eaa2d0a2-ce5f-4ff2-a5b2-695b43bf03cb",
   "metadata": {},
   "outputs": [
    {
     "data": {
      "image/png": "[encoded data removed]",
      "text/plain": [
       "<Figure size 640x480 with 1 Axes>"
      ]
     },
     "metadata": {},
     "output_type": "display_data"
    }
   ],
   "source": [
    "##Visualize XGBoost most important variables\n",
    "\n",
    "import matplotlib.pyplot as plt\n",
    "import xgboost as xgb\n",
    "\n",
    "# Plot feature importance for XGBoost\n",
    "xgb.plot_importance(xgb_model, max_num_features=10)\n",
    "plt.show()\n"
   ]
  },
  {
   "cell_type": "code",
   "execution_count": 367,
   "id": "cda5e72e-2f0f-4038-b9c7-0627b21ab95d",
   "metadata": {},
   "outputs": [
    {
     "name": "stdout",
     "output_type": "stream",
     "text": [
      "Counts of each delay category:\n",
      "Delay_Category\n",
      "0    1615809\n",
      "1     237792\n",
      "Name: count, dtype: int64\n",
      "Accuracy: 80.37%\n",
      "Confusion Matrix:\n",
      "[[353533  50456]\n",
      " [ 40512  18900]]\n",
      "Classification Report:\n",
      "              precision    recall  f1-score   support\n",
      "\n",
      "           0       0.90      0.88      0.89    403989\n",
      "           1       0.27      0.32      0.29     59412\n",
      "\n",
      "    accuracy                           0.80    463401\n",
      "   macro avg       0.58      0.60      0.59    463401\n",
      "weighted avg       0.82      0.80      0.81    463401\n",
      "\n"
     ]
    },
    {
     "data": {
      "text/plain": [
       "['xgb_model_2.pkl']"
      ]
     },
     "execution_count": 367,
     "metadata": {},
     "output_type": "execute_result"
    }
   ],
   "source": [
    "# Model 2: Delay is defined as arrival delay greater than 30 minutes\n",
    "\n",
    "def define_delay_category(df, delay_threshold=30):\n",
    "    df['Delay_Category'] = df['ARR_DELAY'].apply(lambda x: 1 if x > delay_threshold else 0)\n",
    "\n",
    "# Call this function to define Delay_Category after the preprocessing\n",
    "define_delay_category(train_data, delay_threshold=30)  # Define with delay > 30 mins\n",
    "define_delay_category(test_data, delay_threshold=30)\n",
    "\n",
    "# Check the counts of each delay category\n",
    "category_counts = train_data['Delay_Category'].value_counts()\n",
    "print(\"Counts of each delay category:\")\n",
    "print(category_counts)\n",
    "\n",
    "# Define the feature set (X) and target (y)\n",
    "X_train = train_data.drop(['ARR_DELAY', 'Delay_Category', 'FL_NUMBER', 'FL_DATE', 'DEP_DELAY'], axis=1)\n",
    "y_train = train_data['Delay_Category']\n",
    "X_test = test_data.drop(['ARR_DELAY', 'Delay_Category', 'FL_NUMBER', 'FL_DATE', 'DEP_DELAY'], axis=1)\n",
    "y_test = test_data['Delay_Category']\n",
    "\n",
    "# Cast back to int\n",
    "X_train['AIRLINE_CODE_Encoded'] = X_train['AIRLINE_CODE_Encoded'].astype(int)\n",
    "X_train['DEST_Encoded'] = X_train['DEST_Encoded'].astype(int)\n",
    "X_train['ORIGIN_Encoded'] = X_train['ORIGIN_Encoded'].astype(int)\n",
    "\n",
    "X_test['AIRLINE_CODE_Encoded'] = X_test['AIRLINE_CODE_Encoded'].astype(int)\n",
    "X_test['DEST_Encoded'] = X_test['DEST_Encoded'].astype(int)\n",
    "X_test['ORIGIN_Encoded'] = X_test['ORIGIN_Encoded'].astype(int)\n",
    "\n",
    "#print(X_train.dtypes)\n",
    "\n",
    "\n",
    "xgb_model_2 = XGBClassifier(\n",
    "    scale_pos_weight=4,        # Adjusted for better balance\n",
    "    max_depth=6,               # Control model complexity\n",
    "    learning_rate=0.1,         # Lower learning rate for better convergence\n",
    "    n_estimators=200,          # More trees can improve performance\n",
    "    min_child_weight=5,        # Minimum sum of instance weight needed in a child\n",
    "    random_state=42\n",
    ")\n",
    "xgb_model_2.fit(X_train, y_train)\n",
    "y_pred = xgb_model_2.predict(X_test)\n",
    "\n",
    "# Calculate accuracy\n",
    "accuracy = accuracy_score(y_test, y_pred)\n",
    "print(f'Accuracy: {accuracy * 100:.2f}%')\n",
    "\n",
    "# Confusion Matrix and Classification Report\n",
    "conf_matrix = confusion_matrix(y_test, y_pred)\n",
    "print('Confusion Matrix:')\n",
    "print(conf_matrix)\n",
    "\n",
    "print('Classification Report:')\n",
    "print(classification_report(y_test, y_pred))\n",
    "\n",
    "joblib.dump(xgb_model_2, 'xgb_model_2.pkl')\n",
    "#joblib.dump(X_train.columns, 'X_train_columns.pkl')  # Save the column names\n",
    "\n"
   ]
  },
  {
   "cell_type": "code",
   "execution_count": 368,
   "id": "9d5a2fbc-52aa-4e75-9cb7-7cd5c5f44f92",
   "metadata": {},
   "outputs": [
    {
     "name": "stdout",
     "output_type": "stream",
     "text": [
      "Counts of each delay category:\n",
      "Delay_Category\n",
      "0    1684568\n",
      "1     169033\n",
      "Name: count, dtype: int64\n",
      "Accuracy: 85.68%\n",
      "Confusion Matrix:\n",
      "[[386955  34072]\n",
      " [ 32285  10089]]\n",
      "Classification Report:\n",
      "              precision    recall  f1-score   support\n",
      "\n",
      "           0       0.92      0.92      0.92    421027\n",
      "           1       0.23      0.24      0.23     42374\n",
      "\n",
      "    accuracy                           0.86    463401\n",
      "   macro avg       0.58      0.58      0.58    463401\n",
      "weighted avg       0.86      0.86      0.86    463401\n",
      "\n"
     ]
    },
    {
     "data": {
      "text/plain": [
       "['xgb_model_3.pkl']"
      ]
     },
     "execution_count": 368,
     "metadata": {},
     "output_type": "execute_result"
    }
   ],
   "source": [
    "# Model 3: Delay is defined as arrival delay greater than 45 minutes\n",
    "\n",
    "def define_delay_category(df, delay_threshold=45):\n",
    "    df['Delay_Category'] = df['ARR_DELAY'].apply(lambda x: 1 if x > delay_threshold else 0)\n",
    "\n",
    "# Call this function to define Delay_Category after the preprocessing\n",
    "define_delay_category(train_data, delay_threshold=45)  # Define with delay > 45 mins\n",
    "define_delay_category(test_data, delay_threshold=45)\n",
    "\n",
    "# Check the counts of each delay category\n",
    "category_counts = train_data['Delay_Category'].value_counts()\n",
    "print(\"Counts of each delay category:\")\n",
    "print(category_counts)\n",
    "\n",
    "# Define the feature set (X) and target (y)\n",
    "X_train = train_data.drop(['ARR_DELAY', 'Delay_Category', 'FL_NUMBER', 'FL_DATE', 'DEP_DELAY'], axis=1)\n",
    "y_train = train_data['Delay_Category']\n",
    "X_test = test_data.drop(['ARR_DELAY', 'Delay_Category', 'FL_NUMBER', 'FL_DATE', 'DEP_DELAY'], axis=1)\n",
    "y_test = test_data['Delay_Category']\n",
    "\n",
    "# Cast back to int\n",
    "X_train['AIRLINE_CODE_Encoded'] = X_train['AIRLINE_CODE_Encoded'].astype(int)\n",
    "X_train['DEST_Encoded'] = X_train['DEST_Encoded'].astype(int)\n",
    "X_train['ORIGIN_Encoded'] = X_train['ORIGIN_Encoded'].astype(int)\n",
    "\n",
    "X_test['AIRLINE_CODE_Encoded'] = X_test['AIRLINE_CODE_Encoded'].astype(int)\n",
    "X_test['DEST_Encoded'] = X_test['DEST_Encoded'].astype(int)\n",
    "X_test['ORIGIN_Encoded'] = X_test['ORIGIN_Encoded'].astype(int)\n",
    "\n",
    "#print(X_train.dtypes)\n",
    "\n",
    "xgb_model_3 = XGBClassifier(\n",
    "    scale_pos_weight=5,        # Adjusted for better balance\n",
    "    max_depth=6,               # Control model complexity\n",
    "    learning_rate=0.1,         # Lower learning rate for better convergence\n",
    "    n_estimators=200,          # More trees can improve performance\n",
    "    min_child_weight=5,        # Minimum sum of instance weight needed in a child\n",
    "    random_state=42\n",
    ")\n",
    "xgb_model_3.fit(X_train, y_train)\n",
    "y_pred = xgb_model_3.predict(X_test)\n",
    "\n",
    "# Calculate accuracy\n",
    "accuracy = accuracy_score(y_test, y_pred)\n",
    "print(f'Accuracy: {accuracy * 100:.2f}%')\n",
    "\n",
    "# Confusion Matrix and Classification Report\n",
    "conf_matrix = confusion_matrix(y_test, y_pred)\n",
    "print('Confusion Matrix:')\n",
    "print(conf_matrix)\n",
    "\n",
    "print('Classification Report:')\n",
    "print(classification_report(y_test, y_pred))\n",
    "\n",
    "joblib.dump(xgb_model_3, 'xgb_model_3.pkl')\n",
    "#joblib.dump(X_train.columns, 'X_train_columns.pkl')  # Save the column names\n",
    "\n"
   ]
  },
  {
   "cell_type": "code",
   "execution_count": 369,
   "id": "e77ff575-181c-4716-930c-c0e48db856de",
   "metadata": {},
   "outputs": [
    {
     "name": "stdout",
     "output_type": "stream",
     "text": [
      "Counts of each delay category:\n",
      "Delay_Category\n",
      "0    1727197\n",
      "1     126404\n",
      "Name: count, dtype: int64\n",
      "Accuracy: 88.47%\n",
      "Confusion Matrix:\n",
      "[[403369  28265]\n",
      " [ 25164   6603]]\n",
      "Classification Report:\n",
      "              precision    recall  f1-score   support\n",
      "\n",
      "           0       0.94      0.93      0.94    431634\n",
      "           1       0.19      0.21      0.20     31767\n",
      "\n",
      "    accuracy                           0.88    463401\n",
      "   macro avg       0.57      0.57      0.57    463401\n",
      "weighted avg       0.89      0.88      0.89    463401\n",
      "\n"
     ]
    },
    {
     "data": {
      "text/plain": [
       "['xgb_model_4.pkl']"
      ]
     },
     "execution_count": 369,
     "metadata": {},
     "output_type": "execute_result"
    }
   ],
   "source": [
    "# Model 4: Delay is defined as arrival delay greater than 60 minutes\n",
    "\n",
    "def define_delay_category(df, delay_threshold=60):\n",
    "    df['Delay_Category'] = df['ARR_DELAY'].apply(lambda x: 1 if x > delay_threshold else 0)\n",
    "\n",
    "# Call this function to define Delay_Category after the preprocessing\n",
    "define_delay_category(train_data, delay_threshold=60)  # Define with delay > 60 mins\n",
    "define_delay_category(test_data, delay_threshold=60)\n",
    "\n",
    "# Check the counts of each delay category\n",
    "category_counts = train_data['Delay_Category'].value_counts()\n",
    "print(\"Counts of each delay category:\")\n",
    "print(category_counts)\n",
    "\n",
    "# Define the feature set (X) and target (y)\n",
    "X_train = train_data.drop(['ARR_DELAY', 'Delay_Category', 'FL_NUMBER', 'FL_DATE', 'DEP_DELAY'], axis=1)\n",
    "y_train = train_data['Delay_Category']\n",
    "X_test = test_data.drop(['ARR_DELAY', 'Delay_Category', 'FL_NUMBER', 'FL_DATE', 'DEP_DELAY'], axis=1)\n",
    "y_test = test_data['Delay_Category']\n",
    "\n",
    "# Cast back to int\n",
    "X_train['AIRLINE_CODE_Encoded'] = X_train['AIRLINE_CODE_Encoded'].astype(int)\n",
    "X_train['DEST_Encoded'] = X_train['DEST_Encoded'].astype(int)\n",
    "X_train['ORIGIN_Encoded'] = X_train['ORIGIN_Encoded'].astype(int)\n",
    "\n",
    "X_test['AIRLINE_CODE_Encoded'] = X_test['AIRLINE_CODE_Encoded'].astype(int)\n",
    "X_test['DEST_Encoded'] = X_test['DEST_Encoded'].astype(int)\n",
    "X_test['ORIGIN_Encoded'] = X_test['ORIGIN_Encoded'].astype(int)\n",
    "\n",
    "#print(X_train.dtypes)\n",
    "\n",
    "xgb_model_4 = XGBClassifier(\n",
    "    scale_pos_weight=6.5,        # Adjusted for better balance\n",
    "    max_depth=6,               # Control model complexity\n",
    "    learning_rate=0.1,         # Lower learning rate for better convergence\n",
    "    n_estimators=200,          # More trees can improve performance\n",
    "    min_child_weight=5,        # Minimum sum of instance weight needed in a child\n",
    "    random_state=42\n",
    ")\n",
    "xgb_model_4.fit(X_train, y_train)\n",
    "y_pred = xgb_model_4.predict(X_test)\n",
    "\n",
    "# Calculate accuracy\n",
    "accuracy = accuracy_score(y_test, y_pred)\n",
    "print(f'Accuracy: {accuracy * 100:.2f}%')\n",
    "\n",
    "# Confusion Matrix and Classification Report\n",
    "conf_matrix = confusion_matrix(y_test, y_pred)\n",
    "print('Confusion Matrix:')\n",
    "print(conf_matrix)\n",
    "\n",
    "print('Classification Report:')\n",
    "print(classification_report(y_test, y_pred))\n",
    "\n",
    "joblib.dump(xgb_model_4, 'xgb_model_4.pkl')\n",
    "#joblib.dump(X_train.columns, 'X_train_columns.pkl')  # Save the column names\n",
    "\n"
   ]
  },
  {
   "cell_type": "code",
   "execution_count": 370,
   "id": "251984b9-ede8-45bb-a430-b09ff6f1c73b",
   "metadata": {},
   "outputs": [
    {
     "name": "stdout",
     "output_type": "stream",
     "text": [
      "CSV file 'flight_predictions_final.csv' has been created.\n"
     ]
    }
   ],
   "source": [
    "import pandas as pd\n",
    "\n",
    "# Assuming you have multiple models (xgb_model, xgb_model_2, etc.) and test data (X_test)\n",
    "\n",
    "# Model 1: Delay defined as delay > 15 minutes\n",
    "y_pred_1 = xgb_model.predict(X_test)\n",
    "\n",
    "# Model 2: Delay defined as delay > 30 minutes\n",
    "y_pred_2 = xgb_model_2.predict(X_test)\n",
    "\n",
    "# Model 3: Delay defined as delay > 45 minutes\n",
    "y_pred_3 = xgb_model_3.predict(X_test)\n",
    "\n",
    "# Model 4: Delay defined as delay > 60 minutes\n",
    "y_pred_4 = xgb_model_4.predict(X_test)\n",
    "\n",
    "# Combine the predictions with relevant flight information from X_test\n",
    "# Assuming X_test has relevant columns like 'FL_DATE', 'AIRLINE_CODE', 'ORIGIN', 'DEST'\n",
    "df_results = X_test.copy()\n",
    "\n",
    "# Add the actual ARR_DELAY column to the results\n",
    "df_results['ARR_DELAY'] = df_transformed_final.loc[X_test.index, 'ARR_DELAY']  # Use .loc to ensure correct index alignment\n",
    "df_results['FL_NUMBER'] = df_transformed_final.loc[X_test.index, 'FL_NUMBER']  # Use .loc to ensure correct index alignment\n",
    "\n",
    "# Add the predictions from each model\n",
    "df_results['Prediction_Model_1'] = y_pred_1\n",
    "df_results['Prediction_Model_2'] = y_pred_2\n",
    "df_results['Prediction_Model_3'] = y_pred_3\n",
    "df_results['Prediction_Model_4'] = y_pred_4\n",
    "\n",
    "# Optionally, you can map the numeric predictions (0/1) to 'On-Time' and 'Delayed'\n",
    "df_results['Prediction_Model_1'] = df_results['Prediction_Model_1'].map({0: 'On-Time', 1: 'Delayed'})\n",
    "df_results['Prediction_Model_2'] = df_results['Prediction_Model_2'].map({0: 'On-Time', 1: 'Delayed'})\n",
    "df_results['Prediction_Model_3'] = df_results['Prediction_Model_3'].map({0: 'On-Time', 1: 'Delayed'})\n",
    "df_results['Prediction_Model_4'] = df_results['Prediction_Model_4'].map({0: 'On-Time', 1: 'Delayed'})\n",
    "\n",
    "# Save the results to a CSV file\n",
    "df_results.to_csv('flight_predictions_final.csv', index=False)\n",
    "\n",
    "print(\"CSV file 'flight_predictions_final.csv' has been created.\")\n"
   ]
  },
  {
   "cell_type": "markdown",
   "id": "15291cbc-81c3-4aca-a46e-9184a92339b7",
   "metadata": {},
   "source": [
    "#### Across the model results, an observed trend indicates that as the delay threshold increases—from 15 minutes to 30, 45, and eventually 60 minutes—the recall for delayed flights tends to decrease. This pattern can be attributed to the nature of delay distributions and the increased challenge of accurately identifying longer delays.\n",
    "\n",
    "#### As the delay threshold becomes stricter, fewer flights meet the delayed condition, reducing the number of positive samples available for model training. With fewer examples of significant delays, the model’s ability to identify these cases effectively diminishes, leading to lower recall. Moreover, shorter delays often display more consistent patterns in their predictive features, making them easier for the model to capture accurately. In contrast, longer delays tend to be more variable and unpredictable, further complicating accurate identification as the threshold increases.\n",
    "\n",
    "#### Thus, the decline in recall with higher thresholds reflects both the smaller sample size of longer delays and the increased variability in these cases, which challenges the model's ability to generalize effectively."
   ]
  },
  {
   "cell_type": "markdown",
   "id": "3585760f-e030-4548-b5ca-88917240f8cd",
   "metadata": {},
   "source": [
    "### Extract Top Origin-Dest-Airline Code Combinations"
   ]
  },
  {
   "cell_type": "code",
   "execution_count": 373,
   "id": "137ab13e-8a16-42ac-8474-43b1e21748d3",
   "metadata": {},
   "outputs": [
    {
     "name": "stdout",
     "output_type": "stream",
     "text": [
      "Top Origin-Destination-Airline Combinations with Delays (Encoded):\n",
      " ORIGIN_Encoded  DEST_Encoded  AIRLINE_CODE_Encoded\n",
      "261             210           2                       148\n",
      "101             210           2                       147\n",
      "                27            2                       145\n",
      "124             325           15                      145\n",
      "323             20            3                       141\n",
      "325             124           15                      135\n",
      "234             210           2                       131\n",
      "223             190           4                       130\n",
      "201             190           4                       125\n",
      "97              50            4                       125\n",
      "dtype: int64\n",
      "\n",
      "Top Origin-Destination-Airline Combinations with Delays (Encoded and Decoded):\n",
      "    ORIGIN_Encoded  DEST_Encoded  AIRLINE_CODE_Encoded  Delay_Counts  \\\n",
      "0             261           210                     2           148   \n",
      "1             101           210                     2           147   \n",
      "2             101            27                     2           145   \n",
      "3             124           325                    15           145   \n",
      "4             323            20                     3           141   \n",
      "5             325           124                    15           135   \n",
      "6             234           210                     2           131   \n",
      "7             223           190                     4           130   \n",
      "8             201           190                     4           125   \n",
      "9              97            50                     4           125   \n",
      "\n",
      "  ORIGIN_Decoded DEST_Decoded AIRLINE_Decoded  \n",
      "0            ORF          LGB              AS  \n",
      "1            DHN          LGB              AS  \n",
      "2            DHN          AVL              AS  \n",
      "3            EYW          SGF              WN  \n",
      "4            SFB          APN              B6  \n",
      "5            SGF          EYW              WN  \n",
      "6            MKE          LGB              AS  \n",
      "7            MCW          JLN              DL  \n",
      "8            LBB          JLN              DL  \n",
      "9            DDC          BPT              DL  \n"
     ]
    }
   ],
   "source": [
    "import pandas as pd\n",
    "\n",
    "# Load the predictions data (if needed)\n",
    "# df_results = pd.read_csv('flight_predictions_3.csv')\n",
    "\n",
    "# Filter rows with delays based on any of the prediction models\n",
    "# (Assuming each prediction model column is mapped to 'On-Time' or 'Delayed')\n",
    "delayed_flights = df_results[\n",
    "    (df_results['Prediction_Model_1'] == 'Delayed') |\n",
    "    (df_results['Prediction_Model_2'] == 'Delayed') |\n",
    "    (df_results['Prediction_Model_3'] == 'Delayed') |\n",
    "    (df_results['Prediction_Model_4'] == 'Delayed')\n",
    "]\n",
    "\n",
    "# Count delays for Origin-Destination-Airline combinations\n",
    "oda_delay_counts = delayed_flights.groupby(['ORIGIN_Encoded', 'DEST_Encoded', 'AIRLINE_CODE_Encoded']).size().sort_values(ascending=False).head(10)\n",
    "print(\"Top Origin-Destination-Airline Combinations with Delays (Encoded):\\n\", oda_delay_counts)\n",
    "\n",
    "# Reset the index to flatten the grouped data\n",
    "oda_delay_counts = oda_delay_counts.reset_index(name='Delay_Counts')\n",
    "\n",
    "# Decode the encoded values for each column and add as new columns\n",
    "oda_delay_counts['ORIGIN_Decoded'] = oda_delay_counts['ORIGIN_Encoded'].apply(lambda x: origin_encoder.inverse_transform([x])[0])\n",
    "oda_delay_counts['DEST_Decoded'] = oda_delay_counts['DEST_Encoded'].apply(lambda x: dest_encoder.inverse_transform([x])[0])\n",
    "oda_delay_counts['AIRLINE_Decoded'] = oda_delay_counts['AIRLINE_CODE_Encoded'].apply(lambda x: airline_encoder.inverse_transform([x])[0])\n",
    "\n",
    "# Print the DataFrame with both encoded and decoded values\n",
    "print(\"\\nTop Origin-Destination-Airline Combinations with Delays (Encoded and Decoded):\\n\", oda_delay_counts)\n"
   ]
  },
  {
   "cell_type": "markdown",
   "id": "f18bff66-fa44-4e63-b162-6f02a3817ce2",
   "metadata": {},
   "source": [
    "### Below codes are for testing purposes"
   ]
  },
  {
   "cell_type": "code",
   "execution_count": null,
   "id": "d884dd27-638a-43eb-974c-1c42ca355dd2",
   "metadata": {},
   "outputs": [],
   "source": [
    "# Get Original flight details \n",
    "encoded_values = {\n",
    "    'AIRLINE_CODE_Encoded': 12,\n",
    "    'DEST_Encoded': 324,\n",
    "    'ORIGIN_Encoded': 263\n",
    "}\n",
    "\n",
    "# Decode the encoded values back to the original labels\n",
    "original_airline_code = airline_encoder.inverse_transform([encoded_values['AIRLINE_CODE_Encoded']])[0]\n",
    "original_dest = dest_encoder.inverse_transform([encoded_values['DEST_Encoded']])[0]\n",
    "original_origin = origin_encoder.inverse_transform([encoded_values['ORIGIN_Encoded']])[0]\n",
    "\n",
    "# Display the original values\n",
    "print(\"Original AIRLINE_CODE:\", original_airline_code)\n",
    "print(\"Original DEST:\", original_dest)\n",
    "print(\"Original ORIGIN:\", original_origin)"
   ]
  },
  {
   "cell_type": "code",
   "execution_count": 61,
   "id": "eb102ac0-2328-49be-aab6-e0d3071bf1a5",
   "metadata": {},
   "outputs": [
    {
     "name": "stdout",
     "output_type": "stream",
     "text": [
      "pred4: 1\n",
      "pred3: 1\n",
      "pred2: 1\n",
      "pred1: 1\n"
     ]
    }
   ],
   "source": [
    "user_input_path = 'transformed_flight_input_2.csv'  # Ensure the file is in the same directory\n",
    "input_df = pd.read_csv(user_input_path)\n",
    "\n",
    "# Display the head of the dataframe to understand the structure\n",
    "#print(input_df.head())\n",
    "\n",
    "# Make the prediction\n",
    "prediction_4 = xgb_model_4.predict(input_df)\n",
    "prediction_3 = xgb_model_3.predict(input_df)\n",
    "prediction_2 = xgb_model_2.predict(input_df)\n",
    "prediction = xgb_model.predict(input_df)\n",
    "\n",
    "print(\"pred4:\",prediction_4[0])\n",
    "print(\"pred3:\",prediction_3[0])\n",
    "print(\"pred2:\",prediction_2[0])\n",
    "print(\"pred1:\",prediction[0])\n"
   ]
  }
 ],
 "metadata": {
  "kernelspec": {
   "display_name": "Python 3 (ipykernel)",
   "language": "python",
   "name": "python3"
  },
  "language_info": {
   "codemirror_mode": {
    "name": "ipython",
    "version": 3
   },
   "file_extension": ".py",
   "mimetype": "text/x-python",
   "name": "python",
   "nbconvert_exporter": "python",
   "pygments_lexer": "ipython3",
   "version": "3.12.7"
  }
 },
 "nbformat": 4,
 "nbformat_minor": 5
}
